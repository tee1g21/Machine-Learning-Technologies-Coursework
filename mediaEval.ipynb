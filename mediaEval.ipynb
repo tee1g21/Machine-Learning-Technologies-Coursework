{
 "cells": [
  {
   "cell_type": "markdown",
   "metadata": {},
   "source": [
    "# Import Modules"
   ]
  },
  {
   "cell_type": "code",
   "execution_count": 1,
   "metadata": {},
   "outputs": [
    {
     "name": "stderr",
     "output_type": "stream",
     "text": [
      "[nltk_data] Downloading package wordnet to\n",
      "[nltk_data]     C:\\Users\\tomev\\AppData\\Roaming\\nltk_data...\n",
      "[nltk_data]   Package wordnet is already up-to-date!\n",
      "[nltk_data] Downloading package punkt to\n",
      "[nltk_data]     C:\\Users\\tomev\\AppData\\Roaming\\nltk_data...\n",
      "[nltk_data]   Package punkt is already up-to-date!\n"
     ]
    }
   ],
   "source": [
    "import pandas as pd\n",
    "import re\n",
    "import nltk\n",
    "nltk.download('wordnet')\n",
    "nltk.download('punkt')\n",
    "\n",
    "\n",
    "from langdetect import detect\n",
    "import matplotlib.pyplot as plt"
   ]
  },
  {
   "cell_type": "markdown",
   "metadata": {},
   "source": [
    "# Fetch Dataset"
   ]
  },
  {
   "cell_type": "code",
   "execution_count": 2,
   "metadata": {},
   "outputs": [],
   "source": [
    "#current directory containing dataset\n",
    "directory = \"Dataset/\"\n",
    "\n",
    "#read training set\n",
    "train_csv = pd.read_csv(directory+\"mediaeval-2015-trainingset.txt\", sep=\"\\t\", quoting=3)\n",
    "train_df = pd.DataFrame(data = train_csv)\n",
    "\n",
    "#read test set\n",
    "test_csv = pd.read_csv(directory+\"mediaeval-2015-testset.txt\", sep=\"\\t\", quoting=3)\n",
    "test_df = pd.DataFrame(data = test_csv)\n",
    "\n",
    "\n",
    "#train_df = pandas.read_table(\"Dataset/mediaeval-2015-trainingset.txt\", sep=\"\\t\",lineterminator='\\n', skiprows=(0),  header=(0))\n",
    "#test_df = pandas.read_table(\"Dataset/mediaeval-2015-testset.txt\", sep=\"\\t\", lineterminator='\\n', skiprows=(0),  header=(0))\n"
   ]
  },
  {
   "cell_type": "markdown",
   "metadata": {},
   "source": [
    "# Data Characterisation and Visualisation"
   ]
  },
  {
   "cell_type": "code",
   "execution_count": null,
   "metadata": {},
   "outputs": [],
   "source": [
    "#Dataset information, mainly different fields and size\n",
    "train_df.info()\n",
    "print()\n",
    "test_df.info()"
   ]
  },
  {
   "cell_type": "code",
   "execution_count": null,
   "metadata": {},
   "outputs": [],
   "source": [
    "#shape of training/test sets\n",
    "print(train_df.shape)\n",
    "print(test_df.shape)"
   ]
  },
  {
   "cell_type": "code",
   "execution_count": null,
   "metadata": {},
   "outputs": [],
   "source": [
    "#example of dataset entities\n",
    "train_df.head()"
   ]
  },
  {
   "cell_type": "code",
   "execution_count": 3,
   "metadata": {},
   "outputs": [],
   "source": [
    "#renaming ImageId(s) as clunky column name\n",
    "train_df.rename(columns={'imageId(s)': 'imageId'}, inplace=True)\n",
    "\n",
    "test_df.rename(columns={'imageId(s)': 'imageId'}, inplace=True)\n"
   ]
  },
  {
   "cell_type": "code",
   "execution_count": null,
   "metadata": {},
   "outputs": [],
   "source": [
    "#events categorised by ImageID (train)\n",
    "print(\"Train:\")\n",
    "selected_events = train_df[\"imageId\"].str.split('_').str[0].value_counts()\n",
    "print(selected_events) \n",
    "selected_events.plot(kind=\"barh\")\n",
    "plt.title(\"Training Set Events\")\n",
    "plt.show()\n",
    "\n"
   ]
  },
  {
   "cell_type": "code",
   "execution_count": null,
   "metadata": {},
   "outputs": [],
   "source": [
    "#events categorised by ImageID (test)\n",
    "print(\"Test:\")\n",
    "selected_events = test_df[\"imageId\"].str.split('_').str[0].value_counts()\n",
    "print(selected_events) \n",
    "selected_events.plot(kind=\"barh\")\n",
    "plt.title(\"Test Set Events\")\n",
    "plt.show()"
   ]
  },
  {
   "cell_type": "code",
   "execution_count": null,
   "metadata": {},
   "outputs": [],
   "source": [
    "#example tweets for different events\n",
    "\n",
    "event = \"sandy\" #change variable for different events\n",
    "\n",
    "total_df = train_df + test_df\n",
    "selected_tweets = total_df[total_df[\"imageId\"].str.contains(event, na=False)][\"tweetText\"].head(30)\n",
    "print(selected_tweets)"
   ]
  },
  {
   "cell_type": "code",
   "execution_count": null,
   "metadata": {},
   "outputs": [],
   "source": [
    "#number of languages in training set\n",
    "trainLangs = {}\n",
    "\n",
    "for text in train_df[\"tweetText\"]:\n",
    "    try:\n",
    "        lan = detect(text)\n",
    "    except:\n",
    "        pass\n",
    "        lan = \"Unknown\"\n",
    "    trainLangs[lan] = trainLangs.get(lan, 0) + 1\n",
    "  \n",
    "print(trainLangs)\n",
    "\n",
    "# top 4 languages \n",
    "top_langs = dict(sorted(trainLangs.items(), key=lambda x: x[1], reverse=True)[:4])\n",
    "\n",
    "# sum of values for the top 4 languages\n",
    "top_langs_sum = sum(top_langs.values())\n",
    "\n",
    "# other langauges with the sum of values for the remaining categories\n",
    "other_langs = {'Other': sum(trainLangs.values()) - top_langs_sum}\n",
    "\n",
    "combined_data = {**top_langs, **other_langs}\n",
    "\n",
    "# Plot a pie chart \n",
    "plt.pie(combined_data.values(), labels=combined_data.keys(), autopct='%1.1f%%', startangle=90)\n",
    "plt.title(\"Training Set Languages\")\n",
    "plt.show()\n",
    "\n"
   ]
  },
  {
   "cell_type": "code",
   "execution_count": null,
   "metadata": {},
   "outputs": [],
   "source": [
    "#number of languages in test set\n",
    "testLangs = {}\n",
    "\n",
    "for text in test_df[\"tweetText\"]:\n",
    "    try:\n",
    "        lan = detect(text)\n",
    "    except:\n",
    "        pass\n",
    "        lan = \"Unknown\"\n",
    "    testLangs[lan] = testLangs.get(lan, 0) + 1\n",
    "  \n",
    "\n",
    "print(testLangs)\n",
    "\n",
    "# top 4 languages \n",
    "top_langs = dict(sorted(testLangs.items(), key=lambda x: x[1], reverse=True)[:4])\n",
    "\n",
    "# sum of values for the top 4 languages\n",
    "top_langs_sum = sum(top_langs.values())\n",
    "\n",
    "# other langauges with the sum of values for the remaining categories\n",
    "other_langs = {'Other': sum(testLangs.values()) - top_langs_sum}\n",
    "\n",
    "combined_data = {**top_langs, **other_langs}\n",
    "\n",
    "# Plot a pie chart \n",
    "plt.pie(combined_data.values(), labels=combined_data.keys(), autopct='%1.1f%%', startangle=90)\n",
    "plt.title(\"Test Set Languages\")\n",
    "plt.show()\n",
    "\n"
   ]
  },
  {
   "cell_type": "code",
   "execution_count": null,
   "metadata": {},
   "outputs": [],
   "source": [
    "#Searching for duplicate tweets in training\n",
    "print(train_df[\"tweetText\"].describe())\n",
    "print(f\"duplicates:  {train_df['tweetText'].duplicated().sum()}\")\n",
    "\n"
   ]
  },
  {
   "cell_type": "code",
   "execution_count": null,
   "metadata": {},
   "outputs": [],
   "source": [
    "#Searching for duplicate tweets in test\n",
    "print(test_df[\"tweetText\"].describe())\n",
    "print(f\"duplicates:  {test_df['tweetText'].duplicated().sum()}\")"
   ]
  },
  {
   "cell_type": "code",
   "execution_count": 4,
   "metadata": {},
   "outputs": [
    {
     "data": {
      "image/png": "[encoded data removed]",
      "text/plain": [
       "<Figure size 640x480 with 1 Axes>"
      ]
     },
     "metadata": {},
     "output_type": "display_data"
    },
    {
     "name": "stdout",
     "output_type": "stream",
     "text": [
      "Highest Reasonable Value: 190.0\n"
     ]
    }
   ],
   "source": [
    "#compare lengths of tweets in training\n",
    "train_df[\"tweetLength\"] = train_df[\"tweetText\"].apply(len)\n",
    "\n",
    "bp = plt.boxplot(train_df[\"tweetLength\"], vert=False)\n",
    "\n",
    "#use right whisker of box plot to get highest reasonable value\n",
    "max_legit_value = bp[\"whiskers\"][1].get_data()[0][1]\n",
    "\n",
    "plt.title(\"Box Plot of Tweet Lengths\")\n",
    "plt.xlabel(\"Tweet Lengths\")\n",
    "plt.show()\n",
    "\n",
    "print(f\"Highest Reasonable Value: {max_legit_value}\")"
   ]
  },
  {
   "cell_type": "code",
   "execution_count": null,
   "metadata": {},
   "outputs": [],
   "source": [
    "#investigate 1 outliers\n",
    "#top_indices = train_df[\"tweetLength\"].nlargest(1).index\n",
    "#longest_tweets = train_df.loc[top_indices, \"tweetText\"]\n",
    "\n",
    "longest_tweet = train_df['tweetText'].loc[train_df['tweetText'].str.len().idxmax()]\n",
    "\n",
    "print(longest_tweet)\n",
    "print(f\"Length: {len(longest_tweet)}\")\n",
    "\n",
    "#tweet looks valid\n",
    "\n",
    "\n",
    "\n",
    "\n"
   ]
  },
  {
   "cell_type": "code",
   "execution_count": null,
   "metadata": {},
   "outputs": [],
   "source": [
    "# NOT USED after changing how dataset is read in\n",
    "#used to debug longest tweet cause\n",
    "\n",
    "#n = 15\n",
    "#print(f\"Tweet:\\n{longest_tweets.values[n]}\\nLength: {len(longest_tweets.values[n])}\")\n",
    "\n",
    "#Above process confirms that the 15th longest tweet \n",
    "#(according to the box plot) is actually the correct longest tweet"
   ]
  },
  {
   "cell_type": "markdown",
   "metadata": {},
   "source": [
    "# Data Preprocessing\n",
    "\n",
    "- remove broken length tweets - done\n",
    "- remove duplicates \n",
    "- Change humor to fake - done\n",
    "- Remove URLs\n",
    "- Remove certain punctiation\n",
    "- Remove whitespace and stopwords \n",
    "- Tokenise\n",
    "\n",
    "\n",
    "- Remove re-tweets and reposts\n",
    "- Remove usernames\n",
    "- Remove emojis\n",
    "- Don't remove #\n",
    "- Don't remove URLS\n",
    "\n",
    "\n",
    "\n"
   ]
  },
  {
   "cell_type": "code",
   "execution_count": null,
   "metadata": {},
   "outputs": [],
   "source": [
    "#NOT NEEDED\n",
    "#removing 15 outliers containing multiple tweets (tweets longer than 237)\n",
    "train_df = train_df[train_df[\"tweetLength\"] < 238]\n",
    "\n",
    "#new distribution of tweet lengths\n",
    "plt.hist(train_df[\"tweetLength\"], bins=100, edgecolor='black')\n",
    "\n",
    "plt.title(\"Tweet Lengths\")\n",
    "plt.xlabel(\"Length\")\n",
    "plt.ylabel(\"Frequency\")\n",
    "plt.show()\n",
    "\n",
    "#top 10 new longest tweets\n",
    "top_indices = train_df[\"tweetLength\"].nlargest(10).index\n",
    "longest_tweets = train_df.loc[top_indices, \"tweetText\"]\n",
    "print(longest_tweets)\n",
    "\n",
    "#longest tweet\n",
    "print(f\"\\n{longest_tweets.values[0]}\\nLength: {len(longest_tweets.values[0])}\")\n"
   ]
  },
  {
   "cell_type": "code",
   "execution_count": 5,
   "metadata": {},
   "outputs": [],
   "source": [
    "#replace 'humor' label with 'fake'\n",
    "#train_df['label'] = train_df['label'].replace('humor', 'fake')\n",
    "#test_df['label'] = test_df['label'].replace('humor', 'fake')\n",
    "\n",
    "#replace 'humor' label with 'fake' and map to 1 and 0 for ease of use when training and evaluating. Fake: 1, real: 0\n",
    "train_df['label'] = train_df['label'].map({'fake': 1, 'humor': 1, 'real': 0})\n",
    "test_df['label'] = test_df['label'].map({'fake': 1, 'humor': 1, 'real': 0})\n"
   ]
  },
  {
   "cell_type": "code",
   "execution_count": 6,
   "metadata": {},
   "outputs": [],
   "source": [
    "#Clean tweet text by removing unnecessary noise\n",
    "#experiment with for best performance (some processes achieve similiar things)\n",
    "\n",
    "train_df[\"cleanText\"] = train_df[\"tweetText\"]\n",
    "test_df[\"cleanText\"] = test_df[\"tweetText\"]\n",
    "\n",
    "def cleanText(text):\n",
    "    \n",
    "    #remove URLs\n",
    "    text = re.sub(r'http\\S+|\\\\\\/\\S+', ' ', text)\n",
    "\n",
    "    #remove usernames \n",
    "    text = re.sub(r'@\\w*', \" \", text)\n",
    "\n",
    "    #remove punctuation\n",
    "    text = re.sub(r'[^a-zA-Z ]+', ' ', text)\n",
    "\n",
    "    text = text.lower()\n",
    "    \n",
    "    return text\n",
    "\n",
    "#apply cleantext\n",
    "train_df['cleanText'] = train_df['cleanText'].apply(cleanText)\n",
    "test_df['cleanText'] = test_df['cleanText'].apply(cleanText)\n",
    "\n",
    "\n",
    "#remove extra white space\n",
    "train_df['cleanText'] = train_df['cleanText'].str.replace(r'\\s+', ' ', regex=True)\n",
    "test_df['cleanText'] = test_df['cleanText'].str.replace(r'\\s+', ' ', regex=True)\n",
    "\n",
    "\n",
    "#remove stopwords\n",
    "sw = nltk.corpus.stopwords.words()\n",
    "train_df['cleanText'] = train_df['cleanText'].apply(lambda x: ' '.join([w for w in x.split() if w not in sw]))\n",
    "test_df['cleanText'] = test_df['cleanText'].apply(lambda x: ' '.join([w for w in x.split() if w not in sw]))\n"
   ]
  },
  {
   "cell_type": "code",
   "execution_count": 7,
   "metadata": {},
   "outputs": [],
   "source": [
    "#lemmatise to reduce total word count\n",
    "from nltk.stem import WordNetLemmatizer\n",
    "from nltk.tokenize import WhitespaceTokenizer\n",
    "\n",
    "lemmatiser = WordNetLemmatizer()\n",
    "tokeniser = WhitespaceTokenizer()\n",
    "\n",
    "train_df['cleanText'] = train_df['cleanText'].apply(lambda x: ' '.join([lemmatiser.lemmatize(w) for w in tokeniser.tokenize(x)]))\n",
    "\n"
   ]
  },
  {
   "cell_type": "code",
   "execution_count": 8,
   "metadata": {},
   "outputs": [
    {
     "name": "stdout",
     "output_type": "stream",
     "text": [
      "3951\n",
      "0\n"
     ]
    }
   ],
   "source": [
    "#remove duplicates\n",
    "print(train_df[\"cleanText\"].duplicated().sum())\n",
    "train_df.drop_duplicates(subset=[\"cleanText\"], keep=\"first\", inplace=True)\n",
    "print(train_df[\"cleanText\"].duplicated().sum())\n"
   ]
  },
  {
   "cell_type": "code",
   "execution_count": 9,
   "metadata": {},
   "outputs": [
    {
     "name": "stdout",
     "output_type": "stream",
     "text": [
      "Longest Tweet:\n",
      "rt bringbackourgirls bringbackourgirls bringbackourgirls bringbackourgirls bringbackourgirls bringbackourgirls\n",
      "Length: 110\n"
     ]
    },
    {
     "data": {
      "image/png": "[encoded data removed]",
      "text/plain": [
       "<Figure size 640x480 with 1 Axes>"
      ]
     },
     "metadata": {},
     "output_type": "display_data"
    }
   ],
   "source": [
    "#lengths of cleaned text \n",
    "train_df[\"cleanLength\"] = train_df[\"cleanText\"].apply(len)\n",
    "\n",
    "top_indices = train_df[\"cleanLength\"].nlargest(16).index\n",
    "longest_tweets = train_df.loc[top_indices, \"cleanText\"]\n",
    "\n",
    "print(f\"Longest Tweet:\\n{longest_tweets.values[0]}\\nLength: {len(longest_tweets.values[0])}\")\n",
    "\n",
    "#new distribution of cleaned lengths\n",
    "plt.hist(train_df[\"cleanLength\"], bins=50, edgecolor='black')\n",
    "\n",
    "plt.title(\"Clean Lengths\")\n",
    "plt.xlabel(\"Length\")\n",
    "plt.ylabel(\"Frequency\")\n",
    "plt.show()\n"
   ]
  },
  {
   "cell_type": "code",
   "execution_count": 10,
   "metadata": {},
   "outputs": [],
   "source": [
    "#tokenise\n",
    "from nltk.tokenize import word_tokenize\n",
    "\n",
    "# Assuming df_train is your DataFrame and 'cleanText' is the column you want to tokenize\n",
    "train_df[\"tokenisedText\"] = train_df[\"cleanText\"].apply(lambda x: word_tokenize(x))\n",
    "\n",
    "test_df[\"tokenisedText\"] = test_df[\"cleanText\"].apply(lambda x: word_tokenize(x))\n",
    "\n"
   ]
  },
  {
   "cell_type": "code",
   "execution_count": 11,
   "metadata": {},
   "outputs": [
    {
     "data": {
      "text/html": [
       "<div>\n",
       "<style scoped>\n",
       "    .dataframe tbody tr th:only-of-type {\n",
       "        vertical-align: middle;\n",
       "    }\n",
       "\n",
       "    .dataframe tbody tr th {\n",
       "        vertical-align: top;\n",
       "    }\n",
       "\n",
       "    .dataframe thead th {\n",
       "        text-align: right;\n",
       "    }\n",
       "</style>\n",
       "<table border=\"1\" class=\"dataframe\">\n",
       "  <thead>\n",
       "    <tr style=\"text-align: right;\">\n",
       "      <th></th>\n",
       "      <th>tweetId</th>\n",
       "      <th>tweetText</th>\n",
       "      <th>userId</th>\n",
       "      <th>imageId</th>\n",
       "      <th>username</th>\n",
       "      <th>timestamp</th>\n",
       "      <th>label</th>\n",
       "      <th>tweetLength</th>\n",
       "      <th>cleanText</th>\n",
       "      <th>cleanLength</th>\n",
       "      <th>tokenisedText</th>\n",
       "    </tr>\n",
       "  </thead>\n",
       "  <tbody>\n",
       "    <tr>\n",
       "      <th>0</th>\n",
       "      <td>263046056240115712</td>\n",
       "      <td>¿Se acuerdan de la película: “El día después d...</td>\n",
       "      <td>21226711</td>\n",
       "      <td>sandyA_fake_46</td>\n",
       "      <td>iAnnieM</td>\n",
       "      <td>Mon Oct 29 22:34:01 +0000 2012</td>\n",
       "      <td>1</td>\n",
       "      <td>134</td>\n",
       "      <td>acuerdan cula despu ana recuerda pasando hurac...</td>\n",
       "      <td>52</td>\n",
       "      <td>[acuerdan, cula, despu, ana, recuerda, pasando...</td>\n",
       "    </tr>\n",
       "    <tr>\n",
       "      <th>1</th>\n",
       "      <td>262995061304852481</td>\n",
       "      <td>@milenagimon: Miren a Sandy en NY!  Tremenda i...</td>\n",
       "      <td>192378571</td>\n",
       "      <td>sandyA_fake_09</td>\n",
       "      <td>CarlosVerareal</td>\n",
       "      <td>Mon Oct 29 19:11:23 +0000 2012</td>\n",
       "      <td>1</td>\n",
       "      <td>133</td>\n",
       "      <td>miren sandy ny tremenda imagen hurac parece in...</td>\n",
       "      <td>65</td>\n",
       "      <td>[miren, sandy, ny, tremenda, imagen, hurac, pa...</td>\n",
       "    </tr>\n",
       "    <tr>\n",
       "      <th>2</th>\n",
       "      <td>262979898002534400</td>\n",
       "      <td>Buena la foto del Huracán Sandy, me recuerda a...</td>\n",
       "      <td>132303095</td>\n",
       "      <td>sandyA_fake_09</td>\n",
       "      <td>LucasPalape</td>\n",
       "      <td>Mon Oct 29 18:11:08 +0000 2012</td>\n",
       "      <td>1</td>\n",
       "      <td>116</td>\n",
       "      <td>buena foto hurac sandy recuerda cula independe...</td>\n",
       "      <td>59</td>\n",
       "      <td>[buena, foto, hurac, sandy, recuerda, cula, in...</td>\n",
       "    </tr>\n",
       "    <tr>\n",
       "      <th>3</th>\n",
       "      <td>262996108400271360</td>\n",
       "      <td>Scary shit #hurricane #NY http://t.co/e4JLBUfH</td>\n",
       "      <td>241995902</td>\n",
       "      <td>sandyA_fake_29</td>\n",
       "      <td>Haaaaarryyy</td>\n",
       "      <td>Mon Oct 29 19:15:33 +0000 2012</td>\n",
       "      <td>1</td>\n",
       "      <td>46</td>\n",
       "      <td>scary shit hurricane ny</td>\n",
       "      <td>23</td>\n",
       "      <td>[scary, shit, hurricane, ny]</td>\n",
       "    </tr>\n",
       "    <tr>\n",
       "      <th>4</th>\n",
       "      <td>263018881839411200</td>\n",
       "      <td>My fave place in the world #nyc #hurricane #sa...</td>\n",
       "      <td>250315890</td>\n",
       "      <td>sandyA_fake_15</td>\n",
       "      <td>princess__natt</td>\n",
       "      <td>Mon Oct 29 20:46:02 +0000 2012</td>\n",
       "      <td>1</td>\n",
       "      <td>89</td>\n",
       "      <td>fave place world nyc hurricane sandy statueofl...</td>\n",
       "      <td>52</td>\n",
       "      <td>[fave, place, world, nyc, hurricane, sandy, st...</td>\n",
       "    </tr>\n",
       "  </tbody>\n",
       "</table>\n",
       "</div>"
      ],
      "text/plain": [
       "              tweetId                                          tweetText  \\\n",
       "0  263046056240115712  ¿Se acuerdan de la película: “El día después d...   \n",
       "1  262995061304852481  @milenagimon: Miren a Sandy en NY!  Tremenda i...   \n",
       "2  262979898002534400  Buena la foto del Huracán Sandy, me recuerda a...   \n",
       "3  262996108400271360     Scary shit #hurricane #NY http://t.co/e4JLBUfH   \n",
       "4  263018881839411200  My fave place in the world #nyc #hurricane #sa...   \n",
       "\n",
       "      userId         imageId        username                       timestamp  \\\n",
       "0   21226711  sandyA_fake_46         iAnnieM  Mon Oct 29 22:34:01 +0000 2012   \n",
       "1  192378571  sandyA_fake_09  CarlosVerareal  Mon Oct 29 19:11:23 +0000 2012   \n",
       "2  132303095  sandyA_fake_09     LucasPalape  Mon Oct 29 18:11:08 +0000 2012   \n",
       "3  241995902  sandyA_fake_29     Haaaaarryyy  Mon Oct 29 19:15:33 +0000 2012   \n",
       "4  250315890  sandyA_fake_15  princess__natt  Mon Oct 29 20:46:02 +0000 2012   \n",
       "\n",
       "   label  tweetLength                                          cleanText  \\\n",
       "0      1          134  acuerdan cula despu ana recuerda pasando hurac...   \n",
       "1      1          133  miren sandy ny tremenda imagen hurac parece in...   \n",
       "2      1          116  buena foto hurac sandy recuerda cula independe...   \n",
       "3      1           46                            scary shit hurricane ny   \n",
       "4      1           89  fave place world nyc hurricane sandy statueofl...   \n",
       "\n",
       "   cleanLength                                      tokenisedText  \n",
       "0           52  [acuerdan, cula, despu, ana, recuerda, pasando...  \n",
       "1           65  [miren, sandy, ny, tremenda, imagen, hurac, pa...  \n",
       "2           59  [buena, foto, hurac, sandy, recuerda, cula, in...  \n",
       "3           23                       [scary, shit, hurricane, ny]  \n",
       "4           52  [fave, place, world, nyc, hurricane, sandy, st...  "
      ]
     },
     "execution_count": 11,
     "metadata": {},
     "output_type": "execute_result"
    }
   ],
   "source": [
    "train_df.head(5)"
   ]
  },
  {
   "cell_type": "code",
   "execution_count": 12,
   "metadata": {},
   "outputs": [
    {
     "data": {
      "text/html": [
       "<div>\n",
       "<style scoped>\n",
       "    .dataframe tbody tr th:only-of-type {\n",
       "        vertical-align: middle;\n",
       "    }\n",
       "\n",
       "    .dataframe tbody tr th {\n",
       "        vertical-align: top;\n",
       "    }\n",
       "\n",
       "    .dataframe thead th {\n",
       "        text-align: right;\n",
       "    }\n",
       "</style>\n",
       "<table border=\"1\" class=\"dataframe\">\n",
       "  <thead>\n",
       "    <tr style=\"text-align: right;\">\n",
       "      <th></th>\n",
       "      <th>tweetId</th>\n",
       "      <th>tweetText</th>\n",
       "      <th>userId</th>\n",
       "      <th>imageId</th>\n",
       "      <th>username</th>\n",
       "      <th>timestamp</th>\n",
       "      <th>label</th>\n",
       "      <th>cleanText</th>\n",
       "      <th>tokenisedText</th>\n",
       "    </tr>\n",
       "  </thead>\n",
       "  <tbody>\n",
       "    <tr>\n",
       "      <th>0</th>\n",
       "      <td>578854927457349632</td>\n",
       "      <td>kereeen RT @Shyman33: Eclipse from ISS.... htt...</td>\n",
       "      <td>70824972</td>\n",
       "      <td>eclipse_01</td>\n",
       "      <td>peay_s</td>\n",
       "      <td>Fri Mar 20 09:45:43 +0000 2015</td>\n",
       "      <td>1</td>\n",
       "      <td>kereeen rt eclipse</td>\n",
       "      <td>[kereeen, rt, eclipse]</td>\n",
       "    </tr>\n",
       "    <tr>\n",
       "      <th>1</th>\n",
       "      <td>578874632670953472</td>\n",
       "      <td>Absolutely beautiful! RT @Shyman33: Eclipse fr...</td>\n",
       "      <td>344707006</td>\n",
       "      <td>eclipse_01</td>\n",
       "      <td>JaredUcanChange</td>\n",
       "      <td>Fri Mar 20 11:04:02 +0000 2015</td>\n",
       "      <td>1</td>\n",
       "      <td>absolutely beautiful rt eclipse</td>\n",
       "      <td>[absolutely, beautiful, rt, eclipse]</td>\n",
       "    </tr>\n",
       "    <tr>\n",
       "      <th>2</th>\n",
       "      <td>578891261353984000</td>\n",
       "      <td>“@Shyman33: Eclipse from ISS.... http://t.co/C...</td>\n",
       "      <td>224839607</td>\n",
       "      <td>eclipse_01</td>\n",
       "      <td>tpjp1231</td>\n",
       "      <td>Fri Mar 20 12:10:06 +0000 2015</td>\n",
       "      <td>1</td>\n",
       "      <td>eclipse wow amazing</td>\n",
       "      <td>[eclipse, wow, amazing]</td>\n",
       "    </tr>\n",
       "    <tr>\n",
       "      <th>3</th>\n",
       "      <td>578846612312748032</td>\n",
       "      <td>Eclipse from ISS.... http://t.co/En87OtvsU6</td>\n",
       "      <td>134543073</td>\n",
       "      <td>eclipse_01</td>\n",
       "      <td>Shyman33</td>\n",
       "      <td>Fri Mar 20 09:12:41 +0000 2015</td>\n",
       "      <td>1</td>\n",
       "      <td>eclipse</td>\n",
       "      <td>[eclipse]</td>\n",
       "    </tr>\n",
       "    <tr>\n",
       "      <th>4</th>\n",
       "      <td>578975333841551360</td>\n",
       "      <td>\"@ebonfigli: Éclipse vue de l'ISS... Autre cho...</td>\n",
       "      <td>1150728872</td>\n",
       "      <td>eclipse_01</td>\n",
       "      <td>Epimethee_</td>\n",
       "      <td>Fri Mar 20 17:44:11 +0000 2015</td>\n",
       "      <td>1</td>\n",
       "      <td>clipse vue autre chose cr ation divine limite</td>\n",
       "      <td>[clipse, vue, autre, chose, cr, ation, divine,...</td>\n",
       "    </tr>\n",
       "  </tbody>\n",
       "</table>\n",
       "</div>"
      ],
      "text/plain": [
       "              tweetId                                          tweetText  \\\n",
       "0  578854927457349632  kereeen RT @Shyman33: Eclipse from ISS.... htt...   \n",
       "1  578874632670953472  Absolutely beautiful! RT @Shyman33: Eclipse fr...   \n",
       "2  578891261353984000  “@Shyman33: Eclipse from ISS.... http://t.co/C...   \n",
       "3  578846612312748032        Eclipse from ISS.... http://t.co/En87OtvsU6   \n",
       "4  578975333841551360  \"@ebonfigli: Éclipse vue de l'ISS... Autre cho...   \n",
       "\n",
       "       userId      imageId         username                       timestamp  \\\n",
       "0    70824972  eclipse_01            peay_s  Fri Mar 20 09:45:43 +0000 2015   \n",
       "1   344707006  eclipse_01   JaredUcanChange  Fri Mar 20 11:04:02 +0000 2015   \n",
       "2   224839607  eclipse_01          tpjp1231  Fri Mar 20 12:10:06 +0000 2015   \n",
       "3   134543073  eclipse_01          Shyman33  Fri Mar 20 09:12:41 +0000 2015   \n",
       "4  1150728872   eclipse_01       Epimethee_  Fri Mar 20 17:44:11 +0000 2015   \n",
       "\n",
       "   label                                      cleanText  \\\n",
       "0      1                             kereeen rt eclipse   \n",
       "1      1                absolutely beautiful rt eclipse   \n",
       "2      1                            eclipse wow amazing   \n",
       "3      1                                        eclipse   \n",
       "4      1  clipse vue autre chose cr ation divine limite   \n",
       "\n",
       "                                       tokenisedText  \n",
       "0                             [kereeen, rt, eclipse]  \n",
       "1               [absolutely, beautiful, rt, eclipse]  \n",
       "2                            [eclipse, wow, amazing]  \n",
       "3                                          [eclipse]  \n",
       "4  [clipse, vue, autre, chose, cr, ation, divine,...  "
      ]
     },
     "execution_count": 12,
     "metadata": {},
     "output_type": "execute_result"
    }
   ],
   "source": [
    "test_df.head(5)"
   ]
  },
  {
   "cell_type": "markdown",
   "metadata": {},
   "source": [
    "# Pipeline Design"
   ]
  },
  {
   "cell_type": "code",
   "execution_count": 13,
   "metadata": {},
   "outputs": [],
   "source": [
    "#import relevant sklearn modules\n",
    "from sklearn.pipeline import Pipeline\n",
    "from sklearn.feature_extraction.text import TfidfVectorizer\n",
    "from sklearn.decomposition import TruncatedSVD\n",
    "from sklearn.naive_bayes import MultinomialNB\n",
    "from sklearn.linear_model import SGDClassifier\n",
    "from sklearn.model_selection import train_test_split\n",
    "from sklearn.neural_network import MLPClassifier\n",
    "\n",
    "\n",
    "#used to perform tf-idf feature selection in the pipelines\n",
    "vectorizer = TfidfVectorizer()\n",
    "\n",
    "#used to perform svd dimension reduction in the pipelines\n",
    "svd = TruncatedSVD(n_components=100)\n",
    "\n"
   ]
  },
  {
   "cell_type": "code",
   "execution_count": 14,
   "metadata": {},
   "outputs": [],
   "source": [
    "#pipeline 1 using Multinomial Naive Bayes\n",
    "pipeline_1 = mnb_pipeline = Pipeline([\n",
    "    ('vect', vectorizer),\n",
    "    ('svd', svd),\n",
    "    ('mnb', MultinomialNB())\n",
    "])\n"
   ]
  },
  {
   "cell_type": "code",
   "execution_count": 15,
   "metadata": {},
   "outputs": [],
   "source": [
    "#pipeline 1 using Multilayer Perceptron\n",
    "pipeline_1 = mnb_pipeline = Pipeline([\n",
    "    ('vect', vectorizer),\n",
    "    ('svd', svd),\n",
    "    ('mlp', MLPClassifier(hidden_layer_sizes=(100,), max_iter=500))\n",
    "])"
   ]
  },
  {
   "cell_type": "code",
   "execution_count": 16,
   "metadata": {},
   "outputs": [],
   "source": [
    "#pipeline_2 using Stochastic Gradient Descent\n",
    "pipeline_2 = Pipeline([\n",
    "    ('vect', vectorizer),\n",
    "    ('svd', svd),\n",
    "    ('sgd', SGDClassifier())\n",
    "])"
   ]
  },
  {
   "cell_type": "markdown",
   "metadata": {},
   "source": [
    "# Model Training and Testing"
   ]
  },
  {
   "cell_type": "code",
   "execution_count": 17,
   "metadata": {},
   "outputs": [],
   "source": [
    "#splitting training set into train and val\n",
    "#x = features, y = labels\n",
    "X_train, X_val, y_train, y_val = train_test_split(train_df[\"cleanText\"], train_df[\"label\"], test_size=0.2, random_state=69)"
   ]
  },
  {
   "cell_type": "code",
   "execution_count": 50,
   "metadata": {},
   "outputs": [
    {
     "name": "stdout",
     "output_type": "stream",
     "text": [
      "accuracy:   0.864\n"
     ]
    },
    {
     "name": "stderr",
     "output_type": "stream",
     "text": [
      "C:\\Users\\tomev\\AppData\\Local\\Packages\\PythonSoftwareFoundation.Python.3.11_qbz5n2kfra8p0\\LocalCache\\local-packages\\Python311\\site-packages\\sklearn\\neural_network\\_multilayer_perceptron.py:691: ConvergenceWarning: Stochastic Optimizer: Maximum iterations (500) reached and the optimization hasn't converged yet.\n",
      "  warnings.warn(\n"
     ]
    }
   ],
   "source": [
    "#training pipeline_1 \n",
    "pipeline_1.fit(X_train, y_train)\n",
    "\n",
    "#evaluating pipeline_1\n",
    "accuracy_1 = pipeline_1.score(X_val, y_val)\n",
    "print(\"accuracy:   %0.3f\" % accuracy_1)\n"
   ]
  },
  {
   "cell_type": "code",
   "execution_count": 51,
   "metadata": {},
   "outputs": [
    {
     "name": "stdout",
     "output_type": "stream",
     "text": [
      "accuracy:   0.840\n"
     ]
    }
   ],
   "source": [
    "#training pipeline_2 \n",
    "pipeline_2.fit(X_train, y_train)\n",
    "\n",
    "#evaluating pipeline_1\n",
    "accuracy_2 = pipeline_2.score(X_val, y_val)\n",
    "print(\"accuracy:   %0.3f\" % accuracy_2)\n"
   ]
  },
  {
   "cell_type": "code",
   "execution_count": 20,
   "metadata": {},
   "outputs": [],
   "source": [
    "#predicting on test set\n",
    "pred_test_1 = pipeline_1.predict(test_df[\"cleanText\"])\n",
    "\n",
    "pred_test_2 = pipeline_2.predict(test_df[\"cleanText\"])"
   ]
  },
  {
   "cell_type": "markdown",
   "metadata": {},
   "source": [
    "# Evaluation"
   ]
  },
  {
   "cell_type": "code",
   "execution_count": 49,
   "metadata": {},
   "outputs": [
    {
     "data": {
      "image/png": "[encoded data removed]",
      "text/plain": [
       "<Figure size 640x480 with 2 Axes>"
      ]
     },
     "metadata": {},
     "output_type": "display_data"
    },
    {
     "data": {
      "image/png": "[encoded data removed]",
      "text/plain": [
       "<Figure size 640x480 with 2 Axes>"
      ]
     },
     "metadata": {},
     "output_type": "display_data"
    },
    {
     "name": "stdout",
     "output_type": "stream",
     "text": [
      "pipeline_1 classification report:\n",
      "\n",
      "              precision    recall  f1-score   support\n",
      "\n",
      "           0       0.41      0.15      0.22      1217\n",
      "           1       0.69      0.90      0.78      2564\n",
      "\n",
      "    accuracy                           0.66      3781\n",
      "   macro avg       0.55      0.52      0.50      3781\n",
      "weighted avg       0.60      0.66      0.60      3781\n",
      "\n",
      "\n",
      "pipeline_2 classification report:\n",
      "\n",
      "              precision    recall  f1-score   support\n",
      "\n",
      "           0       0.38      0.04      0.08      1217\n",
      "           1       0.68      0.97      0.80      2564\n",
      "\n",
      "    accuracy                           0.67      3781\n",
      "   macro avg       0.53      0.51      0.44      3781\n",
      "weighted avg       0.58      0.67      0.57      3781\n",
      "\n"
     ]
    }
   ],
   "source": [
    "#evaluating pipeline performance\n",
    "from sklearn.metrics import confusion_matrix, ConfusionMatrixDisplay\n",
    "from sklearn.metrics import classification_report\n",
    "\n",
    "\n",
    "cm_1 = confusion_matrix(test_df['label'], pred_test_1)\n",
    "disp_1 = ConfusionMatrixDisplay(confusion_matrix=cm_1, display_labels=pipeline_1.classes_).plot()\n",
    "\n",
    "plt.title(\"pipeline_1 confusion matrix\")\n",
    "plt.show()\n",
    "\n",
    "#confusion matrix for pipeline_2\n",
    "\n",
    "cm_2 = confusion_matrix(test_df['label'], pred_test_2)\n",
    "disp_1 = ConfusionMatrixDisplay(confusion_matrix=cm_2, display_labels=pipeline_2.classes_).plot()\n",
    "\n",
    "plt.title(\"pipeline_2 confusion matrix\")\n",
    "plt.show()\n",
    "\n",
    "\n",
    "#Classification Report 1\n",
    "\n",
    "report_1 = classification_report(test_df['label'], pred_test_1)\n",
    "print(\"pipeline_1 classification report:\\n\")\n",
    "print(report_1)\n",
    "\n",
    "\n",
    "\n",
    "#Classification Report 2\n",
    "report_2 = classification_report(test_df['label'], pred_test_2)\n",
    "print(\"\\npipeline_2 classification report:\\n\")\n",
    "print(report_2)\n",
    "\n",
    "\n"
   ]
  }
 ],
 "metadata": {
  "kernelspec": {
   "display_name": "Python 3",
   "language": "python",
   "name": "python3"
  },
  "language_info": {
   "codemirror_mode": {
    "name": "ipython",
    "version": 3
   },
   "file_extension": ".py",
   "mimetype": "text/x-python",
   "name": "python",
   "nbconvert_exporter": "python",
   "pygments_lexer": "ipython3",
   "version": "3.11.6"
  }
 },
 "nbformat": 4,
 "nbformat_minor": 2
}
