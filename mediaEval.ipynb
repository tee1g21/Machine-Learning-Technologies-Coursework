{
 "cells": [
  {
   "cell_type": "markdown",
   "metadata": {},
   "source": [
    "# Import Modules"
   ]
  },
  {
   "cell_type": "code",
   "execution_count": 1,
   "metadata": {},
   "outputs": [
    {
     "name": "stderr",
     "output_type": "stream",
     "text": [
      "[nltk_data] Downloading package wordnet to\n",
      "[nltk_data]     C:\\Users\\tomev\\AppData\\Roaming\\nltk_data...\n",
      "[nltk_data]   Package wordnet is already up-to-date!\n"
     ]
    }
   ],
   "source": [
    "import pandas \n",
    "import re\n",
    "import nltk\n",
    "nltk.download('wordnet')\n",
    "#from nltk.stem import WordNetLemmatizer\n",
    "#from nltk.tokenize import word_tokenize\n",
    "\n",
    "from langdetect import detect\n",
    "import matplotlib.pyplot as plt"
   ]
  },
  {
   "cell_type": "markdown",
   "metadata": {},
   "source": [
    "# Fetch Dataset"
   ]
  },
  {
   "cell_type": "code",
   "execution_count": 2,
   "metadata": {},
   "outputs": [],
   "source": [
    "#current directory containing dataset\n",
    "directory = \"Dataset/\"\n",
    "\n",
    "#read training set\n",
    "#train_csv = pandas.read_csv(directory+\"mediaeval-2015-trainingset.txt\", sep=\"\t\")\n",
    "#train_df = pandas.DataFrame(data = train_csv)\n",
    "\n",
    "#read test set\n",
    "#test_csv = pandas.read_csv(directory+\"mediaeval-2015-testset.txt\", sep=\"\t\")\n",
    "#test_df = pandas.DataFrame(data = test_csv)\n",
    "\n",
    "\n",
    "train_df = pandas.read_table(\"Dataset/mediaeval-2015-trainingset.txt\", sep=\"\\t\",lineterminator='\\n', skiprows=(0),  header=(0))\n",
    "test_df = pandas.read_table(\"Dataset/mediaeval-2015-testset.txt\", sep=\"\\t\", lineterminator='\\n', skiprows=(0),  header=(0))\n",
    "\n",
    "\n"
   ]
  },
  {
   "cell_type": "markdown",
   "metadata": {},
   "source": [
    "# Data Characterisation and Visualisation"
   ]
  },
  {
   "cell_type": "code",
   "execution_count": 3,
   "metadata": {},
   "outputs": [
    {
     "name": "stdout",
     "output_type": "stream",
     "text": [
      "<class 'pandas.core.frame.DataFrame'>\n",
      "RangeIndex: 14277 entries, 0 to 14276\n",
      "Data columns (total 7 columns):\n",
      " #   Column      Non-Null Count  Dtype \n",
      "---  ------      --------------  ----- \n",
      " 0   tweetId     14277 non-null  int64 \n",
      " 1   tweetText   14277 non-null  object\n",
      " 2   userId      14277 non-null  int64 \n",
      " 3   imageId(s)  14277 non-null  object\n",
      " 4   username    14277 non-null  object\n",
      " 5   timestamp   14277 non-null  object\n",
      " 6   label       14277 non-null  object\n",
      "dtypes: int64(2), object(5)\n",
      "memory usage: 780.9+ KB\n",
      "\n",
      "<class 'pandas.core.frame.DataFrame'>\n",
      "RangeIndex: 3755 entries, 0 to 3754\n",
      "Data columns (total 7 columns):\n",
      " #   Column      Non-Null Count  Dtype \n",
      "---  ------      --------------  ----- \n",
      " 0   tweetId     3755 non-null   int64 \n",
      " 1   tweetText   3755 non-null   object\n",
      " 2   userId      3755 non-null   int64 \n",
      " 3   imageId(s)  3755 non-null   object\n",
      " 4   username    3755 non-null   object\n",
      " 5   timestamp   3755 non-null   object\n",
      " 6   label       3755 non-null   object\n",
      "dtypes: int64(2), object(5)\n",
      "memory usage: 205.5+ KB\n"
     ]
    }
   ],
   "source": [
    "#Dataset information, mainly different fields and size\n",
    "train_df.info()\n",
    "print()\n",
    "test_df.info()"
   ]
  },
  {
   "cell_type": "code",
   "execution_count": 4,
   "metadata": {},
   "outputs": [
    {
     "name": "stdout",
     "output_type": "stream",
     "text": [
      "(14277, 7)\n",
      "(3755, 7)\n"
     ]
    }
   ],
   "source": [
    "#shape of training/test sets\n",
    "print(train_df.shape)\n",
    "print(test_df.shape)"
   ]
  },
  {
   "cell_type": "code",
   "execution_count": 5,
   "metadata": {},
   "outputs": [
    {
     "data": {
      "text/html": [
       "<div>\n",
       "<style scoped>\n",
       "    .dataframe tbody tr th:only-of-type {\n",
       "        vertical-align: middle;\n",
       "    }\n",
       "\n",
       "    .dataframe tbody tr th {\n",
       "        vertical-align: top;\n",
       "    }\n",
       "\n",
       "    .dataframe thead th {\n",
       "        text-align: right;\n",
       "    }\n",
       "</style>\n",
       "<table border=\"1\" class=\"dataframe\">\n",
       "  <thead>\n",
       "    <tr style=\"text-align: right;\">\n",
       "      <th></th>\n",
       "      <th>tweetId</th>\n",
       "      <th>tweetText</th>\n",
       "      <th>userId</th>\n",
       "      <th>imageId(s)</th>\n",
       "      <th>username</th>\n",
       "      <th>timestamp</th>\n",
       "      <th>label</th>\n",
       "    </tr>\n",
       "  </thead>\n",
       "  <tbody>\n",
       "    <tr>\n",
       "      <th>0</th>\n",
       "      <td>263046056240115712</td>\n",
       "      <td>¿Se acuerdan de la película: “El día después d...</td>\n",
       "      <td>21226711</td>\n",
       "      <td>sandyA_fake_46</td>\n",
       "      <td>iAnnieM</td>\n",
       "      <td>Mon Oct 29 22:34:01 +0000 2012</td>\n",
       "      <td>fake</td>\n",
       "    </tr>\n",
       "    <tr>\n",
       "      <th>1</th>\n",
       "      <td>262995061304852481</td>\n",
       "      <td>@milenagimon: Miren a Sandy en NY!  Tremenda i...</td>\n",
       "      <td>192378571</td>\n",
       "      <td>sandyA_fake_09</td>\n",
       "      <td>CarlosVerareal</td>\n",
       "      <td>Mon Oct 29 19:11:23 +0000 2012</td>\n",
       "      <td>fake</td>\n",
       "    </tr>\n",
       "    <tr>\n",
       "      <th>2</th>\n",
       "      <td>262979898002534400</td>\n",
       "      <td>Buena la foto del Huracán Sandy, me recuerda a...</td>\n",
       "      <td>132303095</td>\n",
       "      <td>sandyA_fake_09</td>\n",
       "      <td>LucasPalape</td>\n",
       "      <td>Mon Oct 29 18:11:08 +0000 2012</td>\n",
       "      <td>fake</td>\n",
       "    </tr>\n",
       "    <tr>\n",
       "      <th>3</th>\n",
       "      <td>262996108400271360</td>\n",
       "      <td>Scary shit #hurricane #NY http://t.co/e4JLBUfH</td>\n",
       "      <td>241995902</td>\n",
       "      <td>sandyA_fake_29</td>\n",
       "      <td>Haaaaarryyy</td>\n",
       "      <td>Mon Oct 29 19:15:33 +0000 2012</td>\n",
       "      <td>fake</td>\n",
       "    </tr>\n",
       "    <tr>\n",
       "      <th>4</th>\n",
       "      <td>263018881839411200</td>\n",
       "      <td>My fave place in the world #nyc #hurricane #sa...</td>\n",
       "      <td>250315890</td>\n",
       "      <td>sandyA_fake_15</td>\n",
       "      <td>princess__natt</td>\n",
       "      <td>Mon Oct 29 20:46:02 +0000 2012</td>\n",
       "      <td>fake</td>\n",
       "    </tr>\n",
       "  </tbody>\n",
       "</table>\n",
       "</div>"
      ],
      "text/plain": [
       "              tweetId                                          tweetText  \\\n",
       "0  263046056240115712  ¿Se acuerdan de la película: “El día después d...   \n",
       "1  262995061304852481  @milenagimon: Miren a Sandy en NY!  Tremenda i...   \n",
       "2  262979898002534400  Buena la foto del Huracán Sandy, me recuerda a...   \n",
       "3  262996108400271360     Scary shit #hurricane #NY http://t.co/e4JLBUfH   \n",
       "4  263018881839411200  My fave place in the world #nyc #hurricane #sa...   \n",
       "\n",
       "      userId      imageId(s)        username                       timestamp  \\\n",
       "0   21226711  sandyA_fake_46         iAnnieM  Mon Oct 29 22:34:01 +0000 2012   \n",
       "1  192378571  sandyA_fake_09  CarlosVerareal  Mon Oct 29 19:11:23 +0000 2012   \n",
       "2  132303095  sandyA_fake_09     LucasPalape  Mon Oct 29 18:11:08 +0000 2012   \n",
       "3  241995902  sandyA_fake_29     Haaaaarryyy  Mon Oct 29 19:15:33 +0000 2012   \n",
       "4  250315890  sandyA_fake_15  princess__natt  Mon Oct 29 20:46:02 +0000 2012   \n",
       "\n",
       "  label  \n",
       "0  fake  \n",
       "1  fake  \n",
       "2  fake  \n",
       "3  fake  \n",
       "4  fake  "
      ]
     },
     "execution_count": 5,
     "metadata": {},
     "output_type": "execute_result"
    }
   ],
   "source": [
    "#example of dataset entities\n",
    "train_df.head()"
   ]
  },
  {
   "cell_type": "code",
   "execution_count": 6,
   "metadata": {},
   "outputs": [],
   "source": [
    "#renaming ImageId(s) as clunky column name\n",
    "train_df.rename(columns={'imageId(s)': 'imageId'}, inplace=True)\n",
    "\n",
    "test_df.rename(columns={'imageId(s)': 'imageId'}, inplace=True)\n"
   ]
  },
  {
   "cell_type": "code",
   "execution_count": 7,
   "metadata": {},
   "outputs": [
    {
     "name": "stdout",
     "output_type": "stream",
     "text": [
      "Train:\n",
      "imageId\n",
      "sandyA                9696\n",
      "sandyB                2622\n",
      "boston                 546\n",
      "malaysia               501\n",
      "sochi                  402\n",
      "columbianChemicals     185\n",
      "bringback              131\n",
      "underwater             112\n",
      "passport                46\n",
      "pigFish                 14\n",
      "elephant                13\n",
      "livr                     9\n",
      "Name: count, dtype: int64\n"
     ]
    },
    {
     "data": {
      "image/png": "[encoded data removed]",
      "text/plain": [
       "<Figure size 640x480 with 1 Axes>"
      ]
     },
     "metadata": {},
     "output_type": "display_data"
    }
   ],
   "source": [
    "#events categorised by ImageID (train)\n",
    "print(\"Train:\")\n",
    "selected_events = train_df[\"imageId\"].str.split('_').str[0].value_counts()\n",
    "print(selected_events) \n",
    "selected_events.plot(kind=\"barh\")\n",
    "plt.title(\"Training Set Events\")\n",
    "plt.show()\n",
    "\n"
   ]
  },
  {
   "cell_type": "code",
   "execution_count": 8,
   "metadata": {},
   "outputs": [
    {
     "name": "stdout",
     "output_type": "stream",
     "text": [
      "Test:\n",
      "imageId\n",
      "syrianboy     1769\n",
      "nepal         1353\n",
      "eclipse        277\n",
      "samurai        218\n",
      "garissa         77\n",
      "varoufakis      61\n",
      "Name: count, dtype: int64\n"
     ]
    },
    {
     "data": {
      "image/png": "[encoded data removed]",
      "text/plain": [
       "<Figure size 640x480 with 1 Axes>"
      ]
     },
     "metadata": {},
     "output_type": "display_data"
    }
   ],
   "source": [
    "#events categorised by ImageID (test)\n",
    "print(\"Test:\")\n",
    "selected_events = test_df[\"imageId\"].str.split('_').str[0].value_counts()\n",
    "print(selected_events) \n",
    "selected_events.plot(kind=\"barh\")\n",
    "plt.title(\"Test Set Events\")\n",
    "plt.show()"
   ]
  },
  {
   "cell_type": "code",
   "execution_count": 9,
   "metadata": {},
   "outputs": [
    {
     "name": "stdout",
     "output_type": "stream",
     "text": [
      "0     ¿Se acuerdan de la película: “El día después d...\n",
      "1     @milenagimon: Miren a Sandy en NY!  Tremenda i...\n",
      "2     Buena la foto del Huracán Sandy, me recuerda a...\n",
      "3     Scary shit #hurricane #NY http://t.co/e4JLBUfH...\n",
      "4     My fave place in the world #nyc #hurricane #sa...\n",
      "5     42nd #time #square #NYC #subway #hurricane htt...\n",
      "6     Just in time for #halloween a photo of #hurric...\n",
      "7     Crazy pic of #Hurricane #Sandy prayers go out ...\n",
      "8     #sandy #newyork #hurricane #statueofliberty #U...\n",
      "9     #nyc #hurricane http://t.co/Gv3QxZlqPhoto: The...\n",
      "10    robertosalibaba  god be with u brother #sandy ...\n",
      "11    #Crazy #Hurricane #Sandy http://t.co/0zrMsgvs“...\n",
      "12    #shark #newjersey #swim #sandy #hurricane  ...\n",
      "13    Good luck #ny #newyork #usa #hurricane #sandy ...\n",
      "14    Wow.... Fishing anyone? #hurricane #sandy http...\n",
      "15    Well #howdy there #hurricane #sandy . Just wan...\n",
      "16    Just known this bcs of #jason #chen updated th...\n",
      "17    My thoughts and prayers go to all of the peopl...\n",
      "18    Stay safe my New York family...#nyc #newyork #...\n",
      "19    New York #hurricane #Sandy http://t.co/AnrR8u7...\n",
      "20    Probably the coolest pic of #hurricanesandy! #...\n",
      "21    Crazy #sandy #hurricane images. Be glad we liv...\n",
      "22    My cousin sent this to me... :: Cleveland voic...\n",
      "23    We forget tomb unknown soldier is guard 24/736...\n",
      "24    “@DarcyPhilip #new #york #hurricane #sandy htt...\n",
      "25    New York \"attacked\" by Sandy.  #NewYork #statu...\n",
      "26    This is sooo cute! #puupy #dog #hurricane #san...\n",
      "27    empty streets #nyc #hurricane #sandy http://t....\n",
      "28    Shark. #Sandy #JerseyIThink #Hurricane #NYC #S...\n",
      "29    Craziest picture ever #hurricane http://t.co/K...\n",
      "Name: tweetText, dtype: object\n"
     ]
    }
   ],
   "source": [
    "#example tweets for different events\n",
    "\n",
    "event = \"sandy\" #change variable for different events\n",
    "\n",
    "total_df = train_df + test_df\n",
    "selected_tweets = total_df[total_df[\"imageId\"].str.contains(event, na=False)][\"tweetText\"].head(30)\n",
    "print(selected_tweets)"
   ]
  },
  {
   "cell_type": "code",
   "execution_count": null,
   "metadata": {},
   "outputs": [],
   "source": [
    "#number of languages in training set\n",
    "trainLangs = {}\n",
    "\n",
    "for text in train_df[\"tweetText\"]:\n",
    "    try:\n",
    "        lan = detect(text)\n",
    "    except:\n",
    "        pass\n",
    "        lan = \"Unknown\"\n",
    "    trainLangs[lan] = trainLangs.get(lan, 0) + 1\n",
    "  \n",
    "print(trainLangs)\n",
    "\n",
    "# top 4 languages \n",
    "top_langs = dict(sorted(trainLangs.items(), key=lambda x: x[1], reverse=True)[:4])\n",
    "\n",
    "# sum of values for the top 4 languages\n",
    "top_langs_sum = sum(top_langs.values())\n",
    "\n",
    "# other langauges with the sum of values for the remaining categories\n",
    "other_langs = {'Other': sum(trainLangs.values()) - top_langs_sum}\n",
    "\n",
    "combined_data = {**top_langs, **other_langs}\n",
    "\n",
    "# Plot a pie chart \n",
    "plt.pie(combined_data.values(), labels=combined_data.keys(), autopct='%1.1f%%', startangle=90)\n",
    "plt.title(\"Training Set Languages\")\n",
    "plt.show()\n",
    "\n"
   ]
  },
  {
   "cell_type": "code",
   "execution_count": 10,
   "metadata": {},
   "outputs": [
    {
     "name": "stdout",
     "output_type": "stream",
     "text": [
      "{'en': 2785, 'fr': 33, 'es': 60, 'ca': 7, 'it': 18, 'pt': 39, 'nl': 21, 'fi': 4, 'id': 8, 'af': 5, 'ar': 187, 'hr': 1, 'tr': 12, 'hi': 5, 'ta': 1, 'sq': 4, 'el': 2, 'so': 499, 'tl': 2, 'pl': 2, 'te': 2, 'ru': 2, 'th': 2, 'sv': 1, 'vi': 2, 'ko': 1, 'ja': 2, 'cy': 5, 'lt': 1, 'de': 41, 'da': 1}\n"
     ]
    },
    {
     "data": {
      "image/png": "[encoded data removed]",
      "text/plain": [
       "<Figure size 640x480 with 1 Axes>"
      ]
     },
     "metadata": {},
     "output_type": "display_data"
    }
   ],
   "source": [
    "#number of languages in test set\n",
    "testLangs = {}\n",
    "\n",
    "for text in test_df[\"tweetText\"]:\n",
    "    try:\n",
    "        lan = detect(text)\n",
    "    except:\n",
    "        pass\n",
    "        lan = \"Unknown\"\n",
    "    testLangs[lan] = testLangs.get(lan, 0) + 1\n",
    "  \n",
    "\n",
    "print(testLangs)\n",
    "\n",
    "# top 4 languages \n",
    "top_langs = dict(sorted(testLangs.items(), key=lambda x: x[1], reverse=True)[:4])\n",
    "\n",
    "# sum of values for the top 4 languages\n",
    "top_langs_sum = sum(top_langs.values())\n",
    "\n",
    "# other langauges with the sum of values for the remaining categories\n",
    "other_langs = {'Other': sum(testLangs.values()) - top_langs_sum}\n",
    "\n",
    "combined_data = {**top_langs, **other_langs}\n",
    "\n",
    "# Plot a pie chart \n",
    "plt.pie(combined_data.values(), labels=combined_data.keys(), autopct='%1.1f%%', startangle=90)\n",
    "plt.title(\"Test Set Languages\")\n",
    "plt.show()\n",
    "\n"
   ]
  },
  {
   "cell_type": "code",
   "execution_count": 11,
   "metadata": {},
   "outputs": [
    {
     "name": "stdout",
     "output_type": "stream",
     "text": [
      "count                                                 14277\n",
      "unique                                                12376\n",
      "top       Unbelievable scene flying over #StatenIsland i...\n",
      "freq                                                     42\n",
      "Name: tweetText, dtype: object\n",
      "duplicates:  1901\n"
     ]
    }
   ],
   "source": [
    "#Searching for duplicate tweets in training\n",
    "print(train_df[\"tweetText\"].describe())\n",
    "print(f\"duplicates:  {train_df['tweetText'].duplicated().sum()}\")\n",
    "\n"
   ]
  },
  {
   "cell_type": "code",
   "execution_count": 12,
   "metadata": {},
   "outputs": [
    {
     "name": "stdout",
     "output_type": "stream",
     "text": [
      "count                                                  3755\n",
      "unique                                                 3706\n",
      "top       J'aime une vidéo @YouTube : \"SYRIA! SYRIAN HER...\n",
      "freq                                                      4\n",
      "Name: tweetText, dtype: object\n",
      "duplicates:  49\n"
     ]
    }
   ],
   "source": [
    "#Searching for duplicate tweets in test\n",
    "print(test_df[\"tweetText\"].describe())\n",
    "print(f\"duplicates:  {test_df['tweetText'].duplicated().sum()}\")"
   ]
  },
  {
   "cell_type": "code",
   "execution_count": 13,
   "metadata": {},
   "outputs": [
    {
     "data": {
      "image/png": "[encoded data removed]",
      "text/plain": [
       "<Figure size 640x480 with 1 Axes>"
      ]
     },
     "metadata": {},
     "output_type": "display_data"
    },
    {
     "name": "stdout",
     "output_type": "stream",
     "text": [
      "Highest Reasonable Value: 190.0\n"
     ]
    }
   ],
   "source": [
    "#compare lengths of tweets in training\n",
    "train_df[\"tweetLength\"] = train_df[\"tweetText\"].apply(len)\n",
    "\n",
    "bp = plt.boxplot(train_df[\"tweetLength\"], vert=False)\n",
    "\n",
    "#use right whisker of box plot to get highest reasonable value\n",
    "max_legit_value = bp[\"whiskers\"][1].get_data()[0][1]\n",
    "\n",
    "plt.title(\"Box Plot of Tweet Lengths\")\n",
    "plt.xlabel(\"Tweet Lengths\")\n",
    "plt.show()\n",
    "\n",
    "print(f\"Highest Reasonable Value: {max_legit_value}\")"
   ]
  },
  {
   "cell_type": "code",
   "execution_count": 22,
   "metadata": {},
   "outputs": [
    {
     "name": "stdout",
     "output_type": "stream",
     "text": [
      "4000     This can't be real...RT @ropgrady: \\355\\240\\27...\n",
      "12596    FBI ΰΉ€ΰΈΰΈΆΰΈ ΰΈ²ΰΈΰΈ΅ΰΈ·ΰΈ­ΰΈ£ΰΈ°ΰΉ€ΰΈΰΈ΄...\n",
      "12699    FBI ΰΉ€ΰΈΰΈΆΰΈ ΰΈ²ΰΈΰΈ΅ΰΈ·ΰΈ­ΰΈ£ΰΈ°ΰΉ€ΰΈΰΈ΄...\n",
      "9187     Where that pic taken? RT @DaQueennnBee: My pra...\n",
      "6597     Hurricane Sandy bring sharks to New Jersey \\35...\n",
      "12487    4Chan may have found the bomber:\\nhttp://t.co/...\n",
      "14268    *loses all hope for society* \\\"@snopes: The sn...\n",
      "7709     RT @dj609: So this is #hurricanesandy over #ne...\n",
      "9754     &amp; big thank you to all our police/ firefig...\n",
      "2925     Duty &amp; Honor were the Call at Tomb of the ...\n",
      "2927     Duty &amp; Honor were the Call at Tomb of the ...\n",
      "2926     Duty &amp; Honor were the Call at Tomb of the ...\n",
      "9814     “@GovChristie:Talking with Pres. Obama about n...\n",
      "14254    Una aplicación para tener diversión... ¿la usa...\n",
      "2944     These Men Didnt STAND DOWN\\nAs Told 2 From Gua...\n",
      "7502     From not the brightest card in the deck RT @IA...\n",
      "Name: tweetText, dtype: object\n"
     ]
    }
   ],
   "source": [
    "#investigate 16 outliers\n",
    "top_indices = train_df[\"tweetLength\"].nlargest(16).index\n",
    "longest_tweets = train_df.loc[top_indices, \"tweetText\"]\n",
    "print(longest_tweets)\n",
    "#this also highlights that every tweet ends in a URL (in report)\n",
    "\n",
    "\n",
    "\n"
   ]
  },
  {
   "cell_type": "code",
   "execution_count": 20,
   "metadata": {},
   "outputs": [
    {
     "name": "stdout",
     "output_type": "stream",
     "text": [
      "Tweet:\n",
      "This can't be real...RT @ropgrady: \\355\\240\\275\\355\\270\\263\\355\\240\\275\\355\\270\\263\\355\\240\\275\\355\\270\\263 #wtf #hurricane #sandy #nyc #statueofliberty #waves \\355\\240\\274\\355\\274\\212\\355\\240\\275\\355\\267\\275⚡☔ @ NYC http://t.co/CiWRW36n\n",
      "Length: 237\n"
     ]
    }
   ],
   "source": [
    "#used to debug longest tweet cause\n",
    "n = 15\n",
    "print(f\"Tweet:\\n{longest_tweets.values[n]}\\nLength: {len(longest_tweets.values[n])}\")\n",
    "\n",
    "#Above process confirms that the 15th longest tweet \n",
    "#(according to the box plot) is actually the correct longest tweet"
   ]
  },
  {
   "cell_type": "markdown",
   "metadata": {},
   "source": [
    "# Data Preprocessing\n",
    "\n",
    "- remove broken length tweets - done\n",
    "- remove duplicates \n",
    "- Change humor to fake - done\n",
    "- Remove URLs\n",
    "- Remove certain punctiation\n",
    "- Remove whitespace and stopwords \n",
    "- Tokenise\n",
    "\n",
    "\n",
    "- Remove re-tweets and reposts\n",
    "- Remove usernames\n",
    "- Remove emojis\n",
    "- Don't remove #\n",
    "- Don't remove URLS\n",
    "\n",
    "\n",
    "\n"
   ]
  },
  {
   "cell_type": "code",
   "execution_count": 21,
   "metadata": {},
   "outputs": [
    {
     "data": {
      "image/png": "[encoded data removed]",
      "text/plain": [
       "<Figure size 640x480 with 1 Axes>"
      ]
     },
     "metadata": {},
     "output_type": "display_data"
    }
   ],
   "source": [
    "#removing 15 outliers containing multiple tweets (tweets longer than 237)\n",
    "train_df = train_df[train_df[\"tweetLength\"] < 238]\n",
    "\n",
    "#new distribution of tweet lengths\n",
    "plt.hist(train_df[\"tweetLength\"], bins=100, edgecolor='black')\n",
    "\n",
    "plt.title(\"Tweet Lengths\")\n",
    "plt.xlabel(\"Length\")\n",
    "plt.ylabel(\"Frequency\")\n",
    "plt.show()"
   ]
  },
  {
   "cell_type": "code",
   "execution_count": 23,
   "metadata": {},
   "outputs": [
    {
     "name": "stdout",
     "output_type": "stream",
     "text": [
      "4000     This can't be real...RT @ropgrady: \\355\\240\\27...\n",
      "12596    FBI ΰΉ€ΰΈΰΈΆΰΈ ΰΈ²ΰΈΰΈ΅ΰΈ·ΰΈ­ΰΈ£ΰΈ°ΰΉ€ΰΈΰΈ΄...\n",
      "12699    FBI ΰΉ€ΰΈΰΈΆΰΈ ΰΈ²ΰΈΰΈ΅ΰΈ·ΰΈ­ΰΈ£ΰΈ°ΰΉ€ΰΈΰΈ΄...\n",
      "9187     Where that pic taken? RT @DaQueennnBee: My pra...\n",
      "6597     Hurricane Sandy bring sharks to New Jersey \\35...\n",
      "12487    4Chan may have found the bomber:\\nhttp://t.co/...\n",
      "14268    *loses all hope for society* \\\"@snopes: The sn...\n",
      "7709     RT @dj609: So this is #hurricanesandy over #ne...\n",
      "9754     &amp; big thank you to all our police/ firefig...\n",
      "2925     Duty &amp; Honor were the Call at Tomb of the ...\n",
      "Name: tweetText, dtype: object\n"
     ]
    }
   ],
   "source": [
    "#top 10 new longest tweets\n",
    "top_indices = train_df[\"tweetLength\"].nlargest(10).index\n",
    "longest_tweets = train_df.loc[top_indices, \"tweetText\"]\n",
    "print(longest_tweets)"
   ]
  },
  {
   "cell_type": "code",
   "execution_count": 24,
   "metadata": {},
   "outputs": [
    {
     "name": "stdout",
     "output_type": "stream",
     "text": [
      "This can't be real...RT @ropgrady: \\355\\240\\275\\355\\270\\263\\355\\240\\275\\355\\270\\263\\355\\240\\275\\355\\270\\263 #wtf #hurricane #sandy #nyc #statueofliberty #waves \\355\\240\\274\\355\\274\\212\\355\\240\\275\\355\\267\\275⚡☔ @ NYC http://t.co/CiWRW36n\n",
      "Length: 237\n"
     ]
    }
   ],
   "source": [
    "#longest tweet\n",
    "print(f\"{longest_tweets.values[0]}\\nLength: {len(longest_tweets.values[0])}\")"
   ]
  },
  {
   "cell_type": "code",
   "execution_count": 25,
   "metadata": {},
   "outputs": [],
   "source": [
    "#replace 'humor' label with 'fake'\n",
    "train_df['label'] = train_df['label'].replace('humor', 'fake')\n",
    "test_df['label'] = test_df['label'].replace('humor', 'fake')\n"
   ]
  },
  {
   "cell_type": "code",
   "execution_count": 26,
   "metadata": {},
   "outputs": [],
   "source": [
    "#Clean tweet text by removing unnecessary noise\n",
    "#experiment with for best performance (some processes achieve similiar things)\n",
    "\n",
    "train_df[\"cleanText\"] = train_df[\"tweetText\"]\n",
    "\n",
    "def cleanText(text):\n",
    "    \n",
    "    #remove URLs\n",
    "    text = re.sub(r'http\\S+|\\\\\\/\\S+', '', text)\n",
    "\n",
    "    #remove usernames \n",
    "    text = re.sub(r'@\\w*', \"\", text)\n",
    "\n",
    "    #remove punctuation\n",
    "    text = re.sub(r'[^a-zA-Z ]+', '', text)\n",
    "    return text\n",
    "\n",
    "#apply cleantext\n",
    "train_df['cleanText'] = train_df['cleanText'].apply(cleanText)\n",
    "\n",
    "#remove extra white space\n",
    "train_df['cleanText'] = train_df['cleanText'].str.replace(r'\\s+', ' ', regex=True)\n",
    "\n",
    "#remove stopwords\n",
    "sw = nltk.corpus.stopwords.words()\n",
    "train_df['cleanText'] = train_df['cleanText'].apply(lambda x: ' '.join([w for w in x.split() if w not in sw]))\n"
   ]
  },
  {
   "cell_type": "code",
   "execution_count": 27,
   "metadata": {},
   "outputs": [],
   "source": [
    "#lemmatise to reduce total word count\n",
    "from nltk.stem import WordNetLemmatizer\n",
    "from nltk.tokenize import word_tokenize\n",
    "\n",
    "lemmatiser = WordNetLemmatizer()\n",
    "\n",
    "def lemmatise(text):\n",
    "    words = word_tokenize(text)\n",
    "    lemmatised_words = [lemmatiser.lemmatize(word) for word in words]\n",
    "    return ' '.join(lemmatised_words)\n",
    "\n",
    "train_df[\"lemmatisedText\"] = train_df[\"cleanText\"].apply(lemmatise)"
   ]
  },
  {
   "cell_type": "code",
   "execution_count": 28,
   "metadata": {},
   "outputs": [
    {
     "name": "stdout",
     "output_type": "stream",
     "text": [
      "3350\n",
      "0\n"
     ]
    }
   ],
   "source": [
    "#remove duplicates\n",
    "print(train_df[\"cleanText\"].duplicated().sum())\n",
    "train_df.drop_duplicates(subset=[\"cleanText\"], keep=\"first\", inplace=True)\n",
    "print(train_df[\"cleanText\"].duplicated().sum())\n"
   ]
  },
  {
   "cell_type": "code",
   "execution_count": 34,
   "metadata": {},
   "outputs": [
    {
     "name": "stdout",
     "output_type": "stream",
     "text": [
      "Longest Tweet:\n",
      "How Many Retweets Can We Get For The Soldiers Guarding The Tomb Of Unknown Soldiers During Hurricane Sandy Americannn\n",
      "Length: 117\n"
     ]
    },
    {
     "data": {
      "image/png": "[encoded data removed]",
      "text/plain": [
       "<Figure size 640x480 with 1 Axes>"
      ]
     },
     "metadata": {},
     "output_type": "display_data"
    }
   ],
   "source": [
    "#lengths of cleaned text \n",
    "train_df[\"cleanLength\"] = train_df[\"cleanText\"].apply(len)\n",
    "\n",
    "top_indices = train_df[\"cleanLength\"].nlargest(16).index\n",
    "longest_tweets = train_df.loc[top_indices, \"cleanText\"]\n",
    "\n",
    "print(f\"Longest Tweet:\\n{longest_tweets.values[0]}\\nLength: {len(longest_tweets.values[0])}\")\n",
    "\n",
    "#new distribution of cleaned lengths\n",
    "plt.hist(train_df[\"cleanLength\"], bins=50, edgecolor='black')\n",
    "\n",
    "plt.title(\"Clean Lengths\")\n",
    "plt.xlabel(\"Length\")\n",
    "plt.ylabel(\"Frequency\")\n",
    "plt.show()\n"
   ]
  },
  {
   "cell_type": "code",
   "execution_count": 35,
   "metadata": {},
   "outputs": [
    {
     "data": {
      "text/html": [
       "<div>\n",
       "<style scoped>\n",
       "    .dataframe tbody tr th:only-of-type {\n",
       "        vertical-align: middle;\n",
       "    }\n",
       "\n",
       "    .dataframe tbody tr th {\n",
       "        vertical-align: top;\n",
       "    }\n",
       "\n",
       "    .dataframe thead th {\n",
       "        text-align: right;\n",
       "    }\n",
       "</style>\n",
       "<table border=\"1\" class=\"dataframe\">\n",
       "  <thead>\n",
       "    <tr style=\"text-align: right;\">\n",
       "      <th></th>\n",
       "      <th>tweetId</th>\n",
       "      <th>tweetText</th>\n",
       "      <th>userId</th>\n",
       "      <th>imageId</th>\n",
       "      <th>username</th>\n",
       "      <th>timestamp</th>\n",
       "      <th>label</th>\n",
       "      <th>tweetLength</th>\n",
       "      <th>cleanText</th>\n",
       "      <th>lemmatisedText</th>\n",
       "      <th>cleanLength</th>\n",
       "    </tr>\n",
       "  </thead>\n",
       "  <tbody>\n",
       "    <tr>\n",
       "      <th>0</th>\n",
       "      <td>263046056240115712</td>\n",
       "      <td>¿Se acuerdan de la película: “El día después d...</td>\n",
       "      <td>21226711</td>\n",
       "      <td>sandyA_fake_46</td>\n",
       "      <td>iAnnieM</td>\n",
       "      <td>Mon Oct 29 22:34:01 +0000 2012</td>\n",
       "      <td>fake</td>\n",
       "      <td>134</td>\n",
       "      <td>Se acuerdan pelcula El despus Me recuerda pasa...</td>\n",
       "      <td>Se acuerdan pelcula El despus Me recuerda pasa...</td>\n",
       "      <td>62</td>\n",
       "    </tr>\n",
       "    <tr>\n",
       "      <th>1</th>\n",
       "      <td>262995061304852481</td>\n",
       "      <td>@milenagimon: Miren a Sandy en NY!  Tremenda i...</td>\n",
       "      <td>192378571</td>\n",
       "      <td>sandyA_fake_09</td>\n",
       "      <td>CarlosVerareal</td>\n",
       "      <td>Mon Oct 29 19:11:23 +0000 2012</td>\n",
       "      <td>fake</td>\n",
       "      <td>133</td>\n",
       "      <td>Miren Sandy NY Tremenda imagen huracn Parece D...</td>\n",
       "      <td>Miren Sandy NY Tremenda imagen huracn Parece D...</td>\n",
       "      <td>69</td>\n",
       "    </tr>\n",
       "    <tr>\n",
       "      <th>2</th>\n",
       "      <td>262979898002534400</td>\n",
       "      <td>Buena la foto del Huracán Sandy, me recuerda a...</td>\n",
       "      <td>132303095</td>\n",
       "      <td>sandyA_fake_09</td>\n",
       "      <td>LucasPalape</td>\n",
       "      <td>Mon Oct 29 18:11:08 +0000 2012</td>\n",
       "      <td>fake</td>\n",
       "      <td>116</td>\n",
       "      <td>Buena foto Huracn Sandy recuerda pelcula Da In...</td>\n",
       "      <td>Buena foto Huracn Sandy recuerda pelcula Da In...</td>\n",
       "      <td>66</td>\n",
       "    </tr>\n",
       "    <tr>\n",
       "      <th>3</th>\n",
       "      <td>262996108400271360</td>\n",
       "      <td>Scary shit #hurricane #NY http://t.co/e4JLBUfH</td>\n",
       "      <td>241995902</td>\n",
       "      <td>sandyA_fake_29</td>\n",
       "      <td>Haaaaarryyy</td>\n",
       "      <td>Mon Oct 29 19:15:33 +0000 2012</td>\n",
       "      <td>fake</td>\n",
       "      <td>46</td>\n",
       "      <td>Scary shit hurricane NY</td>\n",
       "      <td>Scary shit hurricane NY</td>\n",
       "      <td>23</td>\n",
       "    </tr>\n",
       "    <tr>\n",
       "      <th>4</th>\n",
       "      <td>263018881839411200</td>\n",
       "      <td>My fave place in the world #nyc #hurricane #sa...</td>\n",
       "      <td>250315890</td>\n",
       "      <td>sandyA_fake_15</td>\n",
       "      <td>princess__natt</td>\n",
       "      <td>Mon Oct 29 20:46:02 +0000 2012</td>\n",
       "      <td>fake</td>\n",
       "      <td>89</td>\n",
       "      <td>My fave place world nyc hurricane sandy statue...</td>\n",
       "      <td>My fave place world nyc hurricane sandy statue...</td>\n",
       "      <td>55</td>\n",
       "    </tr>\n",
       "    <tr>\n",
       "      <th>5</th>\n",
       "      <td>263364439582060545</td>\n",
       "      <td>42nd #time #square #NYC #subway #hurricane htt...</td>\n",
       "      <td>163674788</td>\n",
       "      <td>sandyA_fake_23</td>\n",
       "      <td>classycg</td>\n",
       "      <td>Tue Oct 30 19:39:10 +0000 2012</td>\n",
       "      <td>fake</td>\n",
       "      <td>63</td>\n",
       "      <td>time square NYC subway hurricane</td>\n",
       "      <td>time square NYC subway hurricane</td>\n",
       "      <td>32</td>\n",
       "    </tr>\n",
       "    <tr>\n",
       "      <th>6</th>\n",
       "      <td>262927032705490944</td>\n",
       "      <td>Just in time for #halloween a photo of #hurric...</td>\n",
       "      <td>246153081</td>\n",
       "      <td>sandyA_fake_14</td>\n",
       "      <td>j_unit87</td>\n",
       "      <td>Mon Oct 29 14:41:04 +0000 2012</td>\n",
       "      <td>fake</td>\n",
       "      <td>91</td>\n",
       "      <td>Just time halloween photo hurricane sandy fran...</td>\n",
       "      <td>Just time halloween photo hurricane sandy fran...</td>\n",
       "      <td>54</td>\n",
       "    </tr>\n",
       "    <tr>\n",
       "      <th>7</th>\n",
       "      <td>263321078884077568</td>\n",
       "      <td>Crazy pic of #Hurricane #Sandy prayers go out ...</td>\n",
       "      <td>199565482</td>\n",
       "      <td>sandyA_fake_29</td>\n",
       "      <td>MrBlakMagik</td>\n",
       "      <td>Tue Oct 30 16:46:52 +0000 2012</td>\n",
       "      <td>fake</td>\n",
       "      <td>106</td>\n",
       "      <td>Crazy Hurricane Sandy prayers family friends E...</td>\n",
       "      <td>Crazy Hurricane Sandy prayer family friend Eas...</td>\n",
       "      <td>55</td>\n",
       "    </tr>\n",
       "    <tr>\n",
       "      <th>8</th>\n",
       "      <td>263111677485142017</td>\n",
       "      <td>#sandy #newyork #hurricane #statueofliberty #U...</td>\n",
       "      <td>78475739</td>\n",
       "      <td>sandyA_fake_15</td>\n",
       "      <td>safi37</td>\n",
       "      <td>Tue Oct 30 02:54:46 +0000 2012</td>\n",
       "      <td>fake</td>\n",
       "      <td>69</td>\n",
       "      <td>sandy newyork hurricane statueofliberty USA</td>\n",
       "      <td>sandy newyork hurricane statueofliberty USA</td>\n",
       "      <td>43</td>\n",
       "    </tr>\n",
       "    <tr>\n",
       "      <th>9</th>\n",
       "      <td>262977091983785985</td>\n",
       "      <td>#nyc #hurricane http://t.co/Gv3QxZlq</td>\n",
       "      <td>869777653</td>\n",
       "      <td>sandyA_fake_29</td>\n",
       "      <td>kingmichael03</td>\n",
       "      <td>Mon Oct 29 17:59:59 +0000 2012</td>\n",
       "      <td>fake</td>\n",
       "      <td>36</td>\n",
       "      <td>nyc hurricane</td>\n",
       "      <td>nyc hurricane</td>\n",
       "      <td>13</td>\n",
       "    </tr>\n",
       "    <tr>\n",
       "      <th>10</th>\n",
       "      <td>262989009930833920</td>\n",
       "      <td>robertosalibaba  god be with u brother #sandy ...</td>\n",
       "      <td>359592461</td>\n",
       "      <td>sandyA_fake_08</td>\n",
       "      <td>Michael_Saliba</td>\n",
       "      <td>Mon Oct 29 18:47:20 +0000 2012</td>\n",
       "      <td>fake</td>\n",
       "      <td>86</td>\n",
       "      <td>robertosalibaba god brother sandy hurricane ne...</td>\n",
       "      <td>robertosalibaba god brother sandy hurricane ne...</td>\n",
       "      <td>51</td>\n",
       "    </tr>\n",
       "    <tr>\n",
       "      <th>11</th>\n",
       "      <td>263129115207536640</td>\n",
       "      <td>#Crazy #Hurricane #Sandy http://t.co/0zrMsgvs</td>\n",
       "      <td>31305940</td>\n",
       "      <td>sandyA_fake_29</td>\n",
       "      <td>SLAZARO31</td>\n",
       "      <td>Tue Oct 30 04:04:04 +0000 2012</td>\n",
       "      <td>fake</td>\n",
       "      <td>45</td>\n",
       "      <td>Crazy Hurricane Sandy</td>\n",
       "      <td>Crazy Hurricane Sandy</td>\n",
       "      <td>21</td>\n",
       "    </tr>\n",
       "    <tr>\n",
       "      <th>12</th>\n",
       "      <td>263091320871063552</td>\n",
       "      <td>#shark #newjersey #swim #sandy #hurricane  ...</td>\n",
       "      <td>51599800</td>\n",
       "      <td>sandyA_fake_11</td>\n",
       "      <td>anaceciggt</td>\n",
       "      <td>Tue Oct 30 01:33:53 +0000 2012</td>\n",
       "      <td>fake</td>\n",
       "      <td>66</td>\n",
       "      <td>shark newjersey swim sandy hurricane</td>\n",
       "      <td>shark newjersey swim sandy hurricane</td>\n",
       "      <td>36</td>\n",
       "    </tr>\n",
       "    <tr>\n",
       "      <th>13</th>\n",
       "      <td>262990978611286016</td>\n",
       "      <td>Good luck #ny #newyork #usa #hurricane #sandy ...</td>\n",
       "      <td>125724906</td>\n",
       "      <td>sandyA_fake_29</td>\n",
       "      <td>gsevigny</td>\n",
       "      <td>Mon Oct 29 18:55:10 +0000 2012</td>\n",
       "      <td>fake</td>\n",
       "      <td>66</td>\n",
       "      <td>Good luck ny newyork usa hurricane sandy</td>\n",
       "      <td>Good luck ny newyork usa hurricane sandy</td>\n",
       "      <td>40</td>\n",
       "    </tr>\n",
       "    <tr>\n",
       "      <th>14</th>\n",
       "      <td>263070862977167360</td>\n",
       "      <td>Wow.... Fishing anyone? #hurricane #sandy http...</td>\n",
       "      <td>332477807</td>\n",
       "      <td>sandyA_fake_11</td>\n",
       "      <td>shawtyvegasbomb</td>\n",
       "      <td>Tue Oct 30 00:12:36 +0000 2012</td>\n",
       "      <td>fake</td>\n",
       "      <td>62</td>\n",
       "      <td>Wow Fishing hurricane sandy</td>\n",
       "      <td>Wow Fishing hurricane sandy</td>\n",
       "      <td>27</td>\n",
       "    </tr>\n",
       "    <tr>\n",
       "      <th>15</th>\n",
       "      <td>263270378221228033</td>\n",
       "      <td>Well #howdy there #hurricane #sandy . Just wan...</td>\n",
       "      <td>714666746</td>\n",
       "      <td>sandyA_fake_29</td>\n",
       "      <td>x0_nashalee_0x</td>\n",
       "      <td>Tue Oct 30 13:25:24 +0000 2012</td>\n",
       "      <td>fake</td>\n",
       "      <td>137</td>\n",
       "      <td>Well howdy hurricane sandy Just wanted power i...</td>\n",
       "      <td>Well howdy hurricane sandy Just wanted power i...</td>\n",
       "      <td>66</td>\n",
       "    </tr>\n",
       "    <tr>\n",
       "      <th>16</th>\n",
       "      <td>263229641999925249</td>\n",
       "      <td>Just known this bcs of #jason #chen updated th...</td>\n",
       "      <td>31382827</td>\n",
       "      <td>sandyA_fake_29</td>\n",
       "      <td>aran08</td>\n",
       "      <td>Tue Oct 30 10:43:31 +0000 2012</td>\n",
       "      <td>fake</td>\n",
       "      <td>129</td>\n",
       "      <td>Just bcs jason chen updated Everyone safe newy...</td>\n",
       "      <td>Just bcs jason chen updated Everyone safe newy...</td>\n",
       "      <td>72</td>\n",
       "    </tr>\n",
       "    <tr>\n",
       "      <th>17</th>\n",
       "      <td>263184498072645632</td>\n",
       "      <td>My thoughts and prayers go to all of the peopl...</td>\n",
       "      <td>164399110</td>\n",
       "      <td>sandyA_fake_48</td>\n",
       "      <td>RaulSanchezBeat</td>\n",
       "      <td>Tue Oct 30 07:44:08 +0000 2012</td>\n",
       "      <td>fake</td>\n",
       "      <td>129</td>\n",
       "      <td>My thoughts prayers hurricane sandy ct md nc n...</td>\n",
       "      <td>My thought prayer hurricane sandy ct md nc nh nj</td>\n",
       "      <td>50</td>\n",
       "    </tr>\n",
       "    <tr>\n",
       "      <th>18</th>\n",
       "      <td>263001267926880258</td>\n",
       "      <td>Stay safe my New York family...#nyc #newyork #...</td>\n",
       "      <td>332854270</td>\n",
       "      <td>sandyA_fake_29</td>\n",
       "      <td>RSG_the_Large_1</td>\n",
       "      <td>Mon Oct 29 19:36:03 +0000 2012</td>\n",
       "      <td>fake</td>\n",
       "      <td>89</td>\n",
       "      <td>Stay safe New York familynyc newyork storm hur...</td>\n",
       "      <td>Stay safe New York familynyc newyork storm hur...</td>\n",
       "      <td>57</td>\n",
       "    </tr>\n",
       "    <tr>\n",
       "      <th>19</th>\n",
       "      <td>263363592508829697</td>\n",
       "      <td>New York #hurricane #Sandy http://t.co/AnrR8u7t</td>\n",
       "      <td>30897781</td>\n",
       "      <td>sandyA_fake_15</td>\n",
       "      <td>tito23</td>\n",
       "      <td>Tue Oct 30 19:35:48 +0000 2012</td>\n",
       "      <td>fake</td>\n",
       "      <td>47</td>\n",
       "      <td>New York hurricane Sandy</td>\n",
       "      <td>New York hurricane Sandy</td>\n",
       "      <td>24</td>\n",
       "    </tr>\n",
       "  </tbody>\n",
       "</table>\n",
       "</div>"
      ],
      "text/plain": [
       "               tweetId                                          tweetText  \\\n",
       "0   263046056240115712  ¿Se acuerdan de la película: “El día después d...   \n",
       "1   262995061304852481  @milenagimon: Miren a Sandy en NY!  Tremenda i...   \n",
       "2   262979898002534400  Buena la foto del Huracán Sandy, me recuerda a...   \n",
       "3   262996108400271360     Scary shit #hurricane #NY http://t.co/e4JLBUfH   \n",
       "4   263018881839411200  My fave place in the world #nyc #hurricane #sa...   \n",
       "5   263364439582060545  42nd #time #square #NYC #subway #hurricane htt...   \n",
       "6   262927032705490944  Just in time for #halloween a photo of #hurric...   \n",
       "7   263321078884077568  Crazy pic of #Hurricane #Sandy prayers go out ...   \n",
       "8   263111677485142017  #sandy #newyork #hurricane #statueofliberty #U...   \n",
       "9   262977091983785985               #nyc #hurricane http://t.co/Gv3QxZlq   \n",
       "10  262989009930833920  robertosalibaba  god be with u brother #sandy ...   \n",
       "11  263129115207536640      #Crazy #Hurricane #Sandy http://t.co/0zrMsgvs   \n",
       "12  263091320871063552  #shark #newjersey #swim #sandy #hurricane  ...   \n",
       "13  262990978611286016  Good luck #ny #newyork #usa #hurricane #sandy ...   \n",
       "14  263070862977167360  Wow.... Fishing anyone? #hurricane #sandy http...   \n",
       "15  263270378221228033  Well #howdy there #hurricane #sandy . Just wan...   \n",
       "16  263229641999925249  Just known this bcs of #jason #chen updated th...   \n",
       "17  263184498072645632  My thoughts and prayers go to all of the peopl...   \n",
       "18  263001267926880258  Stay safe my New York family...#nyc #newyork #...   \n",
       "19  263363592508829697    New York #hurricane #Sandy http://t.co/AnrR8u7t   \n",
       "\n",
       "       userId         imageId         username  \\\n",
       "0    21226711  sandyA_fake_46          iAnnieM   \n",
       "1   192378571  sandyA_fake_09   CarlosVerareal   \n",
       "2   132303095  sandyA_fake_09      LucasPalape   \n",
       "3   241995902  sandyA_fake_29      Haaaaarryyy   \n",
       "4   250315890  sandyA_fake_15   princess__natt   \n",
       "5   163674788  sandyA_fake_23         classycg   \n",
       "6   246153081  sandyA_fake_14         j_unit87   \n",
       "7   199565482  sandyA_fake_29      MrBlakMagik   \n",
       "8    78475739  sandyA_fake_15           safi37   \n",
       "9   869777653  sandyA_fake_29    kingmichael03   \n",
       "10  359592461  sandyA_fake_08   Michael_Saliba   \n",
       "11   31305940  sandyA_fake_29        SLAZARO31   \n",
       "12   51599800  sandyA_fake_11       anaceciggt   \n",
       "13  125724906  sandyA_fake_29         gsevigny   \n",
       "14  332477807  sandyA_fake_11  shawtyvegasbomb   \n",
       "15  714666746  sandyA_fake_29   x0_nashalee_0x   \n",
       "16   31382827  sandyA_fake_29           aran08   \n",
       "17  164399110  sandyA_fake_48  RaulSanchezBeat   \n",
       "18  332854270  sandyA_fake_29  RSG_the_Large_1   \n",
       "19   30897781  sandyA_fake_15           tito23   \n",
       "\n",
       "                         timestamp label  tweetLength  \\\n",
       "0   Mon Oct 29 22:34:01 +0000 2012  fake          134   \n",
       "1   Mon Oct 29 19:11:23 +0000 2012  fake          133   \n",
       "2   Mon Oct 29 18:11:08 +0000 2012  fake          116   \n",
       "3   Mon Oct 29 19:15:33 +0000 2012  fake           46   \n",
       "4   Mon Oct 29 20:46:02 +0000 2012  fake           89   \n",
       "5   Tue Oct 30 19:39:10 +0000 2012  fake           63   \n",
       "6   Mon Oct 29 14:41:04 +0000 2012  fake           91   \n",
       "7   Tue Oct 30 16:46:52 +0000 2012  fake          106   \n",
       "8   Tue Oct 30 02:54:46 +0000 2012  fake           69   \n",
       "9   Mon Oct 29 17:59:59 +0000 2012  fake           36   \n",
       "10  Mon Oct 29 18:47:20 +0000 2012  fake           86   \n",
       "11  Tue Oct 30 04:04:04 +0000 2012  fake           45   \n",
       "12  Tue Oct 30 01:33:53 +0000 2012  fake           66   \n",
       "13  Mon Oct 29 18:55:10 +0000 2012  fake           66   \n",
       "14  Tue Oct 30 00:12:36 +0000 2012  fake           62   \n",
       "15  Tue Oct 30 13:25:24 +0000 2012  fake          137   \n",
       "16  Tue Oct 30 10:43:31 +0000 2012  fake          129   \n",
       "17  Tue Oct 30 07:44:08 +0000 2012  fake          129   \n",
       "18  Mon Oct 29 19:36:03 +0000 2012  fake           89   \n",
       "19  Tue Oct 30 19:35:48 +0000 2012  fake           47   \n",
       "\n",
       "                                            cleanText  \\\n",
       "0   Se acuerdan pelcula El despus Me recuerda pasa...   \n",
       "1   Miren Sandy NY Tremenda imagen huracn Parece D...   \n",
       "2   Buena foto Huracn Sandy recuerda pelcula Da In...   \n",
       "3                             Scary shit hurricane NY   \n",
       "4   My fave place world nyc hurricane sandy statue...   \n",
       "5                    time square NYC subway hurricane   \n",
       "6   Just time halloween photo hurricane sandy fran...   \n",
       "7   Crazy Hurricane Sandy prayers family friends E...   \n",
       "8         sandy newyork hurricane statueofliberty USA   \n",
       "9                                       nyc hurricane   \n",
       "10  robertosalibaba god brother sandy hurricane ne...   \n",
       "11                              Crazy Hurricane Sandy   \n",
       "12               shark newjersey swim sandy hurricane   \n",
       "13           Good luck ny newyork usa hurricane sandy   \n",
       "14                        Wow Fishing hurricane sandy   \n",
       "15  Well howdy hurricane sandy Just wanted power i...   \n",
       "16  Just bcs jason chen updated Everyone safe newy...   \n",
       "17  My thoughts prayers hurricane sandy ct md nc n...   \n",
       "18  Stay safe New York familynyc newyork storm hur...   \n",
       "19                           New York hurricane Sandy   \n",
       "\n",
       "                                       lemmatisedText  cleanLength  \n",
       "0   Se acuerdan pelcula El despus Me recuerda pasa...           62  \n",
       "1   Miren Sandy NY Tremenda imagen huracn Parece D...           69  \n",
       "2   Buena foto Huracn Sandy recuerda pelcula Da In...           66  \n",
       "3                             Scary shit hurricane NY           23  \n",
       "4   My fave place world nyc hurricane sandy statue...           55  \n",
       "5                    time square NYC subway hurricane           32  \n",
       "6   Just time halloween photo hurricane sandy fran...           54  \n",
       "7   Crazy Hurricane Sandy prayer family friend Eas...           55  \n",
       "8         sandy newyork hurricane statueofliberty USA           43  \n",
       "9                                       nyc hurricane           13  \n",
       "10  robertosalibaba god brother sandy hurricane ne...           51  \n",
       "11                              Crazy Hurricane Sandy           21  \n",
       "12               shark newjersey swim sandy hurricane           36  \n",
       "13           Good luck ny newyork usa hurricane sandy           40  \n",
       "14                        Wow Fishing hurricane sandy           27  \n",
       "15  Well howdy hurricane sandy Just wanted power i...           66  \n",
       "16  Just bcs jason chen updated Everyone safe newy...           72  \n",
       "17   My thought prayer hurricane sandy ct md nc nh nj           50  \n",
       "18  Stay safe New York familynyc newyork storm hur...           57  \n",
       "19                           New York hurricane Sandy           24  "
      ]
     },
     "execution_count": 35,
     "metadata": {},
     "output_type": "execute_result"
    }
   ],
   "source": [
    "train_df.head(20)"
   ]
  },
  {
   "cell_type": "markdown",
   "metadata": {},
   "source": [
    "# Model Desgin"
   ]
  },
  {
   "cell_type": "code",
   "execution_count": null,
   "metadata": {},
   "outputs": [],
   "source": []
  },
  {
   "cell_type": "markdown",
   "metadata": {},
   "source": [
    "# Model Training and Testing"
   ]
  },
  {
   "cell_type": "code",
   "execution_count": null,
   "metadata": {},
   "outputs": [],
   "source": []
  },
  {
   "cell_type": "markdown",
   "metadata": {},
   "source": [
    "# Evaluation"
   ]
  },
  {
   "cell_type": "code",
   "execution_count": null,
   "metadata": {},
   "outputs": [],
   "source": []
  }
 ],
 "metadata": {
  "kernelspec": {
   "display_name": "Python 3",
   "language": "python",
   "name": "python3"
  },
  "language_info": {
   "codemirror_mode": {
    "name": "ipython",
    "version": 3
   },
   "file_extension": ".py",
   "mimetype": "text/x-python",
   "name": "python",
   "nbconvert_exporter": "python",
   "pygments_lexer": "ipython3",
   "version": "3.11.6"
  }
 },
 "nbformat": 4,
 "nbformat_minor": 2
}
