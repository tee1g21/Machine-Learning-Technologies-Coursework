{
 "cells": [
  {
   "cell_type": "markdown",
   "metadata": {},
   "source": [
    "# Import Modules"
   ]
  },
  {
   "cell_type": "code",
   "execution_count": 1,
   "metadata": {},
   "outputs": [
    {
     "name": "stderr",
     "output_type": "stream",
     "text": [
      "[nltk_data] Downloading package wordnet to\n",
      "[nltk_data]     C:\\Users\\tomev\\AppData\\Roaming\\nltk_data...\n",
      "[nltk_data]   Package wordnet is already up-to-date!\n",
      "[nltk_data] Downloading package punkt to\n",
      "[nltk_data]     C:\\Users\\tomev\\AppData\\Roaming\\nltk_data...\n",
      "[nltk_data]   Package punkt is already up-to-date!\n"
     ]
    }
   ],
   "source": [
    "import pandas as pd\n",
    "import re\n",
    "import nltk\n",
    "nltk.download('wordnet')\n",
    "nltk.download('punkt')\n",
    "\n",
    "\n",
    "from langdetect import detect\n",
    "import matplotlib.pyplot as plt"
   ]
  },
  {
   "cell_type": "markdown",
   "metadata": {},
   "source": [
    "# Fetch Dataset"
   ]
  },
  {
   "cell_type": "code",
   "execution_count": 2,
   "metadata": {},
   "outputs": [],
   "source": [
    "#current directory containing dataset\n",
    "directory = \"Dataset/\"\n",
    "\n",
    "#read training set\n",
    "train_csv = pd.read_csv(directory+\"mediaeval-2015-trainingset.txt\", sep=\"\\t\", quoting=3)\n",
    "train_df = pd.DataFrame(data = train_csv)\n",
    "\n",
    "#read test set\n",
    "test_csv = pd.read_csv(directory+\"mediaeval-2015-testset.txt\", sep=\"\\t\", quoting=3)\n",
    "test_df = pd.DataFrame(data = test_csv)\n",
    "\n",
    "\n",
    "#train_df = pandas.read_table(\"Dataset/mediaeval-2015-trainingset.txt\", sep=\"\\t\",lineterminator='\\n', skiprows=(0),  header=(0))\n",
    "#test_df = pandas.read_table(\"Dataset/mediaeval-2015-testset.txt\", sep=\"\\t\", lineterminator='\\n', skiprows=(0),  header=(0))\n"
   ]
  },
  {
   "cell_type": "markdown",
   "metadata": {},
   "source": [
    "# Data Characterisation and Visualisation"
   ]
  },
  {
   "cell_type": "code",
   "execution_count": null,
   "metadata": {},
   "outputs": [],
   "source": [
    "#Dataset information, mainly different fields and size\n",
    "train_df.info()\n",
    "print()\n",
    "test_df.info()"
   ]
  },
  {
   "cell_type": "code",
   "execution_count": null,
   "metadata": {},
   "outputs": [],
   "source": [
    "#shape of training/test sets\n",
    "print(train_df.shape)\n",
    "print(test_df.shape)"
   ]
  },
  {
   "cell_type": "code",
   "execution_count": null,
   "metadata": {},
   "outputs": [],
   "source": [
    "#example of dataset entities\n",
    "train_df.head()"
   ]
  },
  {
   "cell_type": "code",
   "execution_count": 3,
   "metadata": {},
   "outputs": [],
   "source": [
    "#renaming ImageId(s) as clunky column name\n",
    "train_df.rename(columns={'imageId(s)': 'imageId'}, inplace=True)\n",
    "\n",
    "test_df.rename(columns={'imageId(s)': 'imageId'}, inplace=True)\n"
   ]
  },
  {
   "cell_type": "code",
   "execution_count": null,
   "metadata": {},
   "outputs": [],
   "source": [
    "#events categorised by ImageID (train)\n",
    "print(\"Train:\")\n",
    "selected_events = train_df[\"imageId\"].str.split('_').str[0].value_counts()\n",
    "print(selected_events) \n",
    "selected_events.plot(kind=\"barh\")\n",
    "plt.title(\"Training Set Events\")\n",
    "plt.show()\n",
    "\n"
   ]
  },
  {
   "cell_type": "code",
   "execution_count": null,
   "metadata": {},
   "outputs": [],
   "source": [
    "#events categorised by ImageID (test)\n",
    "print(\"Test:\")\n",
    "selected_events = test_df[\"imageId\"].str.split('_').str[0].value_counts()\n",
    "print(selected_events) \n",
    "selected_events.plot(kind=\"barh\")\n",
    "plt.title(\"Test Set Events\")\n",
    "plt.show()"
   ]
  },
  {
   "cell_type": "code",
   "execution_count": null,
   "metadata": {},
   "outputs": [],
   "source": [
    "#example tweets for different events\n",
    "\n",
    "event = \"sandy\" #change variable for different events\n",
    "\n",
    "total_df = train_df + test_df\n",
    "selected_tweets = total_df[total_df[\"imageId\"].str.contains(event, na=False)][\"tweetText\"].head(30)\n",
    "print(selected_tweets)"
   ]
  },
  {
   "cell_type": "code",
   "execution_count": null,
   "metadata": {},
   "outputs": [],
   "source": [
    "#number of languages in training set\n",
    "trainLangs = {}\n",
    "\n",
    "for text in train_df[\"tweetText\"]:\n",
    "    try:\n",
    "        lan = detect(text)\n",
    "    except:\n",
    "        pass\n",
    "        lan = \"Unknown\"\n",
    "    trainLangs[lan] = trainLangs.get(lan, 0) + 1\n",
    "  \n",
    "print(trainLangs)\n",
    "\n",
    "# top 4 languages \n",
    "top_langs = dict(sorted(trainLangs.items(), key=lambda x: x[1], reverse=True)[:4])\n",
    "\n",
    "# sum of values for the top 4 languages\n",
    "top_langs_sum = sum(top_langs.values())\n",
    "\n",
    "# other langauges with the sum of values for the remaining categories\n",
    "other_langs = {'Other': sum(trainLangs.values()) - top_langs_sum}\n",
    "\n",
    "combined_data = {**top_langs, **other_langs}\n",
    "\n",
    "# Plot a pie chart \n",
    "plt.pie(combined_data.values(), labels=combined_data.keys(), autopct='%1.1f%%', startangle=90)\n",
    "plt.title(\"Training Set Languages\")\n",
    "plt.show()\n",
    "\n"
   ]
  },
  {
   "cell_type": "code",
   "execution_count": null,
   "metadata": {},
   "outputs": [],
   "source": [
    "#number of languages in test set\n",
    "testLangs = {}\n",
    "\n",
    "for text in test_df[\"tweetText\"]:\n",
    "    try:\n",
    "        lan = detect(text)\n",
    "    except:\n",
    "        pass\n",
    "        lan = \"Unknown\"\n",
    "    testLangs[lan] = testLangs.get(lan, 0) + 1\n",
    "  \n",
    "\n",
    "print(testLangs)\n",
    "\n",
    "# top 4 languages \n",
    "top_langs = dict(sorted(testLangs.items(), key=lambda x: x[1], reverse=True)[:4])\n",
    "\n",
    "# sum of values for the top 4 languages\n",
    "top_langs_sum = sum(top_langs.values())\n",
    "\n",
    "# other langauges with the sum of values for the remaining categories\n",
    "other_langs = {'Other': sum(testLangs.values()) - top_langs_sum}\n",
    "\n",
    "combined_data = {**top_langs, **other_langs}\n",
    "\n",
    "# Plot a pie chart \n",
    "plt.pie(combined_data.values(), labels=combined_data.keys(), autopct='%1.1f%%', startangle=90)\n",
    "plt.title(\"Test Set Languages\")\n",
    "plt.show()\n",
    "\n"
   ]
  },
  {
   "cell_type": "code",
   "execution_count": 4,
   "metadata": {},
   "outputs": [
    {
     "name": "stdout",
     "output_type": "stream",
     "text": [
      "count                                                 14483\n",
      "unique                                                12542\n",
      "top       Unbelievable scene flying over #StatenIsland i...\n",
      "freq                                                     42\n",
      "Name: tweetText, dtype: object\n",
      "duplicates:  1941\n"
     ]
    }
   ],
   "source": [
    "#Searching for duplicate tweets in training\n",
    "print(train_df[\"tweetText\"].describe())\n",
    "print(f\"duplicates:  {train_df['tweetText'].duplicated().sum()}\")\n",
    "\n"
   ]
  },
  {
   "cell_type": "code",
   "execution_count": null,
   "metadata": {},
   "outputs": [],
   "source": [
    "#Searching for duplicate tweets in test\n",
    "print(test_df[\"tweetText\"].describe())\n",
    "print(f\"duplicates:  {test_df['tweetText'].duplicated().sum()}\")"
   ]
  },
  {
   "cell_type": "code",
   "execution_count": 5,
   "metadata": {},
   "outputs": [
    {
     "data": {
      "image/png": "[encoded data removed]",
      "text/plain": [
       "<Figure size 640x480 with 1 Axes>"
      ]
     },
     "metadata": {},
     "output_type": "display_data"
    },
    {
     "name": "stdout",
     "output_type": "stream",
     "text": [
      "Highest Reasonable Value: 190.0\n"
     ]
    }
   ],
   "source": [
    "#compare lengths of tweets in training\n",
    "train_df[\"tweetLength\"] = train_df[\"tweetText\"].apply(len)\n",
    "\n",
    "bp = plt.boxplot(train_df[\"tweetLength\"], vert=False)\n",
    "\n",
    "#use right whisker of box plot to get highest reasonable value\n",
    "max_legit_value = bp[\"whiskers\"][1].get_data()[0][1]\n",
    "\n",
    "plt.title(\"Box Plot of Tweet Lengths\")\n",
    "plt.xlabel(\"Tweet Lengths\")\n",
    "plt.show()\n",
    "\n",
    "print(f\"Highest Reasonable Value: {max_legit_value}\")"
   ]
  },
  {
   "cell_type": "code",
   "execution_count": 6,
   "metadata": {},
   "outputs": [
    {
     "name": "stdout",
     "output_type": "stream",
     "text": [
      "This can't be real...RT @ropgrady: \\355\\240\\275\\355\\270\\263\\355\\240\\275\\355\\270\\263\\355\\240\\275\\355\\270\\263 #wtf #hurricane #sandy #nyc #statueofliberty #waves \\355\\240\\274\\355\\274\\212\\355\\240\\275\\355\\267\\275⚡☔ @ NYC http://t.co/CiWRW36n\n",
      "Length: 237\n"
     ]
    }
   ],
   "source": [
    "#investigate 1 outliers\n",
    "#top_indices = train_df[\"tweetLength\"].nlargest(1).index\n",
    "#longest_tweets = train_df.loc[top_indices, \"tweetText\"]\n",
    "\n",
    "longest_tweet = train_df['tweetText'].loc[train_df['tweetText'].str.len().idxmax()]\n",
    "\n",
    "print(longest_tweet)\n",
    "print(f\"Length: {len(longest_tweet)}\")\n",
    "\n",
    "#tweet looks valid\n",
    "\n",
    "\n",
    "\n",
    "\n"
   ]
  },
  {
   "cell_type": "code",
   "execution_count": null,
   "metadata": {},
   "outputs": [],
   "source": [
    "# NOT USED after changing how dataset is read in\n",
    "#used to debug longest tweet cause\n",
    "\n",
    "#n = 15\n",
    "#print(f\"Tweet:\\n{longest_tweets.values[n]}\\nLength: {len(longest_tweets.values[n])}\")\n",
    "\n",
    "#Above process confirms that the 15th longest tweet \n",
    "#(according to the box plot) is actually the correct longest tweet"
   ]
  },
  {
   "cell_type": "markdown",
   "metadata": {},
   "source": [
    "# Data Preprocessing\n",
    "\n",
    "- remove broken length tweets - done\n",
    "- remove duplicates \n",
    "- Change humor to fake - done\n",
    "- Remove URLs\n",
    "- Remove certain punctiation\n",
    "- Remove whitespace and stopwords \n",
    "- Tokenise\n",
    "\n",
    "\n",
    "- Remove re-tweets and reposts\n",
    "- Remove usernames\n",
    "- Remove emojis\n",
    "- Don't remove #\n",
    "- Don't remove URLS\n",
    "\n",
    "\n",
    "\n"
   ]
  },
  {
   "cell_type": "code",
   "execution_count": 7,
   "metadata": {},
   "outputs": [
    {
     "data": {
      "image/png": "[encoded data removed]",
      "text/plain": [
       "<Figure size 640x480 with 1 Axes>"
      ]
     },
     "metadata": {},
     "output_type": "display_data"
    },
    {
     "name": "stdout",
     "output_type": "stream",
     "text": [
      "4046     This can't be real...RT @ropgrady: \\355\\240\\27...\n",
      "12801    FBI ΰΉ€ΰΈΰΈΆΰΈ ΰΈ²ΰΈΰΈ΅ΰΈ·ΰΈ­ΰΈ£ΰΈ°ΰΉ€ΰΈΰΈ΄...\n",
      "12904    FBI ΰΉ€ΰΈΰΈΆΰΈ ΰΈ²ΰΈΰΈ΅ΰΈ·ΰΈ­ΰΈ£ΰΈ°ΰΉ€ΰΈΰΈ΄...\n",
      "9334     Where that pic taken? RT @DaQueennnBee: My pra...\n",
      "6714     Hurricane Sandy bring sharks to New Jersey \\35...\n",
      "12692    4Chan may have found the bomber:\\nhttp://t.co/...\n",
      "14474    *loses all hope for society* \\\"@snopes: The sn...\n",
      "7826     RT @dj609: So this is #hurricanesandy over #ne...\n",
      "9918     &amp; big thank you to all our police/ firefig...\n",
      "2971     Duty &amp; Honor were the Call at Tomb of the ...\n",
      "Name: tweetText, dtype: object\n",
      "\n",
      "This can't be real...RT @ropgrady: \\355\\240\\275\\355\\270\\263\\355\\240\\275\\355\\270\\263\\355\\240\\275\\355\\270\\263 #wtf #hurricane #sandy #nyc #statueofliberty #waves \\355\\240\\274\\355\\274\\212\\355\\240\\275\\355\\267\\275⚡☔ @ NYC http://t.co/CiWRW36n\n",
      "Length: 237\n"
     ]
    }
   ],
   "source": [
    "#NOT NEEDED\n",
    "#removing 15 outliers containing multiple tweets (tweets longer than 237)\n",
    "train_df = train_df[train_df[\"tweetLength\"] < 238]\n",
    "\n",
    "#new distribution of tweet lengths\n",
    "plt.hist(train_df[\"tweetLength\"], bins=100, edgecolor='black')\n",
    "\n",
    "plt.title(\"Tweet Lengths\")\n",
    "plt.xlabel(\"Length\")\n",
    "plt.ylabel(\"Frequency\")\n",
    "plt.show()\n",
    "\n",
    "#top 10 new longest tweets\n",
    "top_indices = train_df[\"tweetLength\"].nlargest(10).index\n",
    "longest_tweets = train_df.loc[top_indices, \"tweetText\"]\n",
    "print(longest_tweets)\n",
    "\n",
    "#longest tweet\n",
    "print(f\"\\n{longest_tweets.values[0]}\\nLength: {len(longest_tweets.values[0])}\")\n"
   ]
  },
  {
   "cell_type": "code",
   "execution_count": 8,
   "metadata": {},
   "outputs": [],
   "source": [
    "#replace 'humor' label with 'fake'\n",
    "train_df['label'] = train_df['label'].replace('humor', 'fake')\n",
    "test_df['label'] = test_df['label'].replace('humor', 'fake')\n",
    "\n",
    "#replace 'humor' label with 'fake' and map to 1 and 0 for ease of use when training and evaluating. Fake: 1, real: 0\n",
    "#train_df['label'] = train_df['label'].map({'fake': 1, 'humor': 1, 'real': 0})\n",
    "#test_df['label'] = test_df['label'].map({'fake': 1, 'humor': 1, 'real': 0})\n"
   ]
  },
  {
   "cell_type": "code",
   "execution_count": 15,
   "metadata": {},
   "outputs": [
    {
     "name": "stderr",
     "output_type": "stream",
     "text": [
      "[nltk_data] Downloading package stopwords to\n",
      "[nltk_data]     C:\\Users\\tomev\\AppData\\Roaming\\nltk_data...\n",
      "[nltk_data]   Package stopwords is already up-to-date!\n",
      "[nltk_data] Downloading package wordnet to\n",
      "[nltk_data]     C:\\Users\\tomev\\AppData\\Roaming\\nltk_data...\n",
      "[nltk_data]   Package wordnet is already up-to-date!\n",
      "[nltk_data] Downloading package averaged_perceptron_tagger to\n",
      "[nltk_data]     C:\\Users\\tomev\\AppData\\Roaming\\nltk_data...\n",
      "[nltk_data]   Package averaged_perceptron_tagger is already up-to-\n",
      "[nltk_data]       date!\n",
      "[nltk_data] Downloading package maxent_ne_chunker to\n",
      "[nltk_data]     C:\\Users\\tomev\\AppData\\Roaming\\nltk_data...\n",
      "[nltk_data]   Package maxent_ne_chunker is already up-to-date!\n",
      "[nltk_data] Downloading package words to\n",
      "[nltk_data]     C:\\Users\\tomev\\AppData\\Roaming\\nltk_data...\n",
      "[nltk_data]   Package words is already up-to-date!\n",
      "Pandas Apply: 100%|██████████| 10707/10707 [00:07<00:00, 1356.42it/s]\n",
      "Pandas Apply: 100%|██████████| 3781/3781 [00:03<00:00, 1158.40it/s]\n"
     ]
    }
   ],
   "source": [
    "#Clean tweet text by removing unnecessary noise\n",
    "#experiment with for best performance (some processes achieve similiar things)\n",
    "from nltk.tokenize import word_tokenize\n",
    "from nltk.stem import WordNetLemmatizer\n",
    "nltk.download('stopwords')\n",
    "nltk.download('wordnet')\n",
    "nltk.download('averaged_perceptron_tagger')\n",
    "nltk.download('maxent_ne_chunker')\n",
    "nltk.download('words')\n",
    "import swifter\n",
    "\n",
    "#train_df[\"cleanText\"] = train_df[\"tweetText\"]\n",
    "#test_df[\"cleanText\"] = test_df[\"tweetText\"]\n",
    "\n",
    "sw = nltk.corpus.stopwords.words()\n",
    "lemmatiser = WordNetLemmatizer()\n",
    "\n",
    "def smartCleanText(text):\n",
    "    \n",
    "    #remove URLs\n",
    "    text = re.sub(r'http\\S+|\\\\\\/\\S+', ' ', text)\n",
    "\n",
    "    #remove usernames \n",
    "    text = re.sub(r'@\\w*', \" \", text)\n",
    "\n",
    "    #remove punctuation\n",
    "    text = re.sub(r'[^a-zA-Z ]+', ' ', text)\n",
    "\n",
    "    #normalise whitespace \n",
    "    text = re.sub(r'\\s+', ' ', text)\n",
    "\n",
    "    #tokenise\n",
    "    words = word_tokenize(text)\n",
    "\n",
    "    #remove stopwords \n",
    "    words = [word for word in words if word.lower() not in sw]\n",
    "\n",
    "    #lemmatise\n",
    "    words = list(map(lemmatiser.lemmatize, words))\n",
    "\n",
    "    #ne chunks and pos tagging\n",
    "    text = str(nltk.ne_chunk(nltk.pos_tag(words)))\n",
    "\n",
    "    #clean tree\n",
    "    text = text.replace(\"\\n\", \"\")\n",
    "    text = text.replace(\"(S \", \"\")\n",
    "    text = text.replace(\"/\", \" \")\n",
    "    text = text.replace(\"(\", \"\")\n",
    "    text = text.replace(\")\", \"\")\n",
    "\n",
    "    ##lowercase text\n",
    "    text = text.lower()\n",
    "\n",
    "    #normalise whitespace \n",
    "    text = re.sub(r'\\s+', ' ', text)\n",
    "    \n",
    "\n",
    "    return text\n",
    "\n",
    "def cleanText(text):\n",
    "    \n",
    "    #remove URLs\n",
    "    text = re.sub(r'http\\S+|\\\\\\/\\S+', ' ', text)\n",
    "\n",
    "    #remove usernames \n",
    "    text = re.sub(r'@\\w*', \" \", text)\n",
    "\n",
    "    #remove punctuation\n",
    "    text = re.sub(r'[^a-zA-Z ]+', ' ', text)\n",
    "\n",
    "    #normalise whitespace \n",
    "    text = re.sub(r'\\s+', ' ', text)\n",
    "\n",
    "    #tokenise\n",
    "    words = word_tokenize(text)\n",
    "\n",
    "    #remove stopwords \n",
    "    words = [word for word in words if word.lower() not in sw]\n",
    "\n",
    "    #lemmatise\n",
    "    words = list(map(lemmatiser.lemmatize, words))  \n",
    "\n",
    "    text = ' '.join(words)\n",
    "    ##lowercase text\n",
    "    text = text.lower()  \n",
    "\n",
    "    return text\n",
    "\n",
    "\n",
    "\n",
    "#apply cleantext\n",
    "train_df['smartCleanText'] = train_df['tweetText'].swifter.apply(smartCleanText)\n",
    "test_df['smartCleanText'] = test_df['tweetText'].swifter.apply(smartCleanText)\n",
    "\n",
    "train_df['cleanText'] = train_df['tweetText'].swifter.apply(cleanText)\n",
    "test_df['cleanText'] = test_df['tweetText'].swifter.apply(cleanText)\n",
    "#remove extra white space\n",
    "#train_df['cleanText'] = train_df['cleanText'].str.replace(r'\\s+', ' ', regex=True)\n",
    "#test_df['cleanText'] = test_df['cleanText'].str.replace(r'\\s+', ' ', regex=True)\n",
    "\n",
    "\n",
    "#remove stopwords\n",
    "#sw = nltk.corpus.stopwords.words()\n",
    "#train_df['cleanText'] = train_df['cleanText'].apply(lambda x: ' '.join([w for w in x.split() if w not in sw]))\n",
    "#test_df['cleanText'] = test_df['cleanText'].apply(lambda x: ' '.join([w for w in x.split() if w not in sw]))\n",
    "\n"
   ]
  },
  {
   "cell_type": "code",
   "execution_count": 13,
   "metadata": {},
   "outputs": [
    {
     "name": "stdout",
     "output_type": "stream",
     "text": [
      "['how', 'many', 'retweets', 'can', 'we', 'get', 'for', 'the', 'soldiers', 'guarding', 'the', 'tomb', 'of', 'unknown', 'soldiers', 'during', 'hurricane', 'sandy', 'america']\n",
      "['retweets', 'soldiers', 'guarding', 'tomb', 'unknown', 'soldiers', 'hurricane', 'sandy', 'america']\n",
      " retweets nns soldier vbp guarding vbg tomb nn unknown jj soldier nn hurricane nn sandy nn america nn\n"
     ]
    }
   ],
   "source": [
    "## TESTER BLOCK\n",
    "#text = \"how many retweets can we get for the soldiers guarding the tomb of unknown soldiers during hurricane sandy america\"\n",
    "##text = \"HOW MANY RETWEETS CAN WE GET FOR THE SOLDIERS GUARDING THE TOMB OF UNKOWN SOLDERIS DURING HURRICANE SANDY AMERICA\"\n",
    "#\n",
    "##remove URLs\n",
    "#text = re.sub(r'http\\S+|\\\\\\/\\S+', ' ', text)\n",
    "#\n",
    "##remove usernames \n",
    "#text = re.sub(r'@\\w*', \" \", text)\n",
    "#\n",
    "##remove punctuation\n",
    "#text = re.sub(r'[^a-zA-Z ]+', ' ', text)\n",
    "#\n",
    "##normalise whitespace \n",
    "#text = re.sub(r'\\s+', ' ', text)\n",
    "#\n",
    "##tokenise\n",
    "#words = word_tokenize(text)\n",
    "#print(words)\n",
    "#\n",
    "##remove stopwords \n",
    "#words = [word for word in words if word.lower() not in sw]\n",
    "#\n",
    "#print(words)\n",
    "##lemmatise\n",
    "#words = list(map(lemmatiser.lemmatize, words))\n",
    "#\n",
    "##ne chunks and pos tagging\n",
    "#text = str(nltk.ne_chunk(nltk.pos_tag(words)))\n",
    "#\n",
    "##clean tree\n",
    "#text = text.replace(\"\\n\", \"\")\n",
    "#text = text.replace(\"(S \", \"\")\n",
    "#text = text.replace(\"/\", \" \")\n",
    "#text = text.replace(\"(\", \"\")\n",
    "#text = text.replace(\")\", \"\")\n",
    "#\n",
    "###lowercase text\n",
    "#text = text.lower()\n",
    "#\n",
    "##normalise whitespace \n",
    "#text = re.sub(r'\\s+', ' ', text)\n",
    "#\n",
    "#\n",
    "#\n",
    "#print(text)"
   ]
  },
  {
   "cell_type": "code",
   "execution_count": null,
   "metadata": {},
   "outputs": [],
   "source": [
    "##lemmatise to reduce total word count\n",
    "#from nltk.stem import WordNetLemmatizer\n",
    "#from nltk.tokenize import WhitespaceTokenizer\n",
    "#\n",
    "#lemmatiser = WordNetLemmatizer()\n",
    "#tokeniser = WhitespaceTokenizer()\n",
    "#\n",
    "#train_df['cleanText'] = train_df['cleanText'].apply(lambda x: ' '.join([lemmatiser.lemmatize(w) for w in tokeniser.tokenize(x)]))\n",
    "#\n"
   ]
  },
  {
   "cell_type": "code",
   "execution_count": 16,
   "metadata": {},
   "outputs": [
    {
     "name": "stdout",
     "output_type": "stream",
     "text": [
      "cleanText\n",
      "167\n",
      "0\n",
      "\n",
      "SmartCleanText\n",
      "0\n",
      "0\n"
     ]
    }
   ],
   "source": [
    "#remove duplicates\n",
    "print(\"cleanText\")\n",
    "print(train_df[\"cleanText\"].duplicated().sum())\n",
    "train_df.drop_duplicates(subset=[\"cleanText\"], keep=\"first\", inplace=True)\n",
    "print(train_df[\"cleanText\"].duplicated().sum())\n",
    "\n",
    "print(\"\\nSmartCleanText\")\n",
    "print(train_df[\"smartCleanText\"].duplicated().sum())\n",
    "train_df.drop_duplicates(subset=[\"smartCleanText\"], keep=\"first\", inplace=True)\n",
    "print(train_df[\"smartCleanText\"].duplicated().sum())\n"
   ]
  },
  {
   "cell_type": "code",
   "execution_count": 17,
   "metadata": {},
   "outputs": [
    {
     "name": "stdout",
     "output_type": "stream",
     "text": [
      "Longest Tweet:\n",
      "rt bringbackourgirls bringbackourgirls bringbackourgirls bringbackourgirls bringbackourgirls bringbackourgirls\n",
      "Length: 110\n"
     ]
    },
    {
     "data": {
      "image/png": "[encoded data removed]",
      "text/plain": [
       "<Figure size 640x480 with 1 Axes>"
      ]
     },
     "metadata": {},
     "output_type": "display_data"
    }
   ],
   "source": [
    "#lengths of cleaned text \n",
    "train_df[\"cleanLength\"] = train_df[\"cleanText\"].apply(len)\n",
    "\n",
    "top_indices = train_df[\"cleanLength\"].nlargest(16).index\n",
    "longest_tweets = train_df.loc[top_indices, \"cleanText\"]\n",
    "\n",
    "print(f\"Longest Tweet:\\n{longest_tweets.values[0]}\\nLength: {len(longest_tweets.values[0])}\")\n",
    "\n",
    "#new distribution of cleaned lengths\n",
    "plt.hist(train_df[\"cleanLength\"], bins=50, edgecolor='black')\n",
    "\n",
    "plt.title(\"Clean Lengths\")\n",
    "plt.xlabel(\"Length\")\n",
    "plt.ylabel(\"Frequency\")\n",
    "plt.show()\n"
   ]
  },
  {
   "cell_type": "code",
   "execution_count": null,
   "metadata": {},
   "outputs": [],
   "source": [
    "#tokenise\n",
    "#from nltk.tokenize import word_tokenize\n",
    "#\n",
    "## Assuming df_train is your DataFrame and 'cleanText' is the column you want to tokenize\n",
    "#train_df[\"tokenisedText\"] = train_df[\"cleanText\"].apply(lambda x: word_tokenize(x))\n",
    "#\n",
    "#test_df[\"tokenisedText\"] = test_df[\"cleanText\"].apply(lambda x: word_tokenize(x))\n",
    "\n"
   ]
  },
  {
   "cell_type": "code",
   "execution_count": 18,
   "metadata": {},
   "outputs": [
    {
     "data": {
      "text/html": [
       "<div>\n",
       "<style scoped>\n",
       "    .dataframe tbody tr th:only-of-type {\n",
       "        vertical-align: middle;\n",
       "    }\n",
       "\n",
       "    .dataframe tbody tr th {\n",
       "        vertical-align: top;\n",
       "    }\n",
       "\n",
       "    .dataframe thead th {\n",
       "        text-align: right;\n",
       "    }\n",
       "</style>\n",
       "<table border=\"1\" class=\"dataframe\">\n",
       "  <thead>\n",
       "    <tr style=\"text-align: right;\">\n",
       "      <th></th>\n",
       "      <th>tweetId</th>\n",
       "      <th>tweetText</th>\n",
       "      <th>userId</th>\n",
       "      <th>imageId</th>\n",
       "      <th>username</th>\n",
       "      <th>timestamp</th>\n",
       "      <th>label</th>\n",
       "      <th>tweetLength</th>\n",
       "      <th>smartCleanText</th>\n",
       "      <th>cleanText</th>\n",
       "      <th>cleanLength</th>\n",
       "    </tr>\n",
       "  </thead>\n",
       "  <tbody>\n",
       "    <tr>\n",
       "      <th>0</th>\n",
       "      <td>263046056240115712</td>\n",
       "      <td>¿Se acuerdan de la película: “El día después d...</td>\n",
       "      <td>21226711</td>\n",
       "      <td>sandyA_fake_46</td>\n",
       "      <td>iAnnieM</td>\n",
       "      <td>Mon Oct 29 22:34:01 +0000 2012</td>\n",
       "      <td>fake</td>\n",
       "      <td>134</td>\n",
       "      <td>acuerdan jj cula nn despu nn ana nn recuerda ...</td>\n",
       "      <td>acuerdan cula despu ana recuerda pasando hurac...</td>\n",
       "      <td>52</td>\n",
       "    </tr>\n",
       "    <tr>\n",
       "      <th>1</th>\n",
       "      <td>262995061304852481</td>\n",
       "      <td>@milenagimon: Miren a Sandy en NY!  Tremenda i...</td>\n",
       "      <td>192378571</td>\n",
       "      <td>sandyA_fake_09</td>\n",
       "      <td>CarlosVerareal</td>\n",
       "      <td>Mon Oct 29 19:11:23 +0000 2012</td>\n",
       "      <td>fake</td>\n",
       "      <td>133</td>\n",
       "      <td>person miren nnp person sandy nnp ny nnp trem...</td>\n",
       "      <td>miren sandy ny tremenda imagen hurac parece in...</td>\n",
       "      <td>65</td>\n",
       "    </tr>\n",
       "    <tr>\n",
       "      <th>2</th>\n",
       "      <td>262979898002534400</td>\n",
       "      <td>Buena la foto del Huracán Sandy, me recuerda a...</td>\n",
       "      <td>132303095</td>\n",
       "      <td>sandyA_fake_09</td>\n",
       "      <td>LucasPalape</td>\n",
       "      <td>Mon Oct 29 18:11:08 +0000 2012</td>\n",
       "      <td>fake</td>\n",
       "      <td>116</td>\n",
       "      <td>gpe buena nnp foto nn person hurac nnp sandy ...</td>\n",
       "      <td>buena foto hurac sandy recuerda cula independe...</td>\n",
       "      <td>59</td>\n",
       "    </tr>\n",
       "    <tr>\n",
       "      <th>3</th>\n",
       "      <td>262996108400271360</td>\n",
       "      <td>Scary shit #hurricane #NY http://t.co/e4JLBUfH</td>\n",
       "      <td>241995902</td>\n",
       "      <td>sandyA_fake_29</td>\n",
       "      <td>Haaaaarryyy</td>\n",
       "      <td>Mon Oct 29 19:15:33 +0000 2012</td>\n",
       "      <td>fake</td>\n",
       "      <td>46</td>\n",
       "      <td>scary jj shit vbd hurricane nn ny nnp</td>\n",
       "      <td>scary shit hurricane ny</td>\n",
       "      <td>23</td>\n",
       "    </tr>\n",
       "    <tr>\n",
       "      <th>4</th>\n",
       "      <td>263018881839411200</td>\n",
       "      <td>My fave place in the world #nyc #hurricane #sa...</td>\n",
       "      <td>250315890</td>\n",
       "      <td>sandyA_fake_15</td>\n",
       "      <td>princess__natt</td>\n",
       "      <td>Mon Oct 29 20:46:02 +0000 2012</td>\n",
       "      <td>fake</td>\n",
       "      <td>89</td>\n",
       "      <td>fave jj place nn world nn nyc nn hurricane nn...</td>\n",
       "      <td>fave place world nyc hurricane sandy statueofl...</td>\n",
       "      <td>52</td>\n",
       "    </tr>\n",
       "    <tr>\n",
       "      <th>...</th>\n",
       "      <td>...</td>\n",
       "      <td>...</td>\n",
       "      <td>...</td>\n",
       "      <td>...</td>\n",
       "      <td>...</td>\n",
       "      <td>...</td>\n",
       "      <td>...</td>\n",
       "      <td>...</td>\n",
       "      <td>...</td>\n",
       "      <td>...</td>\n",
       "      <td>...</td>\n",
       "    </tr>\n",
       "    <tr>\n",
       "      <th>14478</th>\n",
       "      <td>443231991593304064</td>\n",
       "      <td>@BobombDom *slaps TweetDeck with the PigFish h...</td>\n",
       "      <td>2179310905</td>\n",
       "      <td>pigFish_01</td>\n",
       "      <td>Da_Vault_Hunter</td>\n",
       "      <td>Tue Mar 11 03: 48: 36 +0000 2014</td>\n",
       "      <td>fake</td>\n",
       "      <td>71</td>\n",
       "      <td>slap nn organization tweetdeck nnp pigfish nnp</td>\n",
       "      <td>slap tweetdeck pigfish</td>\n",
       "      <td>22</td>\n",
       "    </tr>\n",
       "    <tr>\n",
       "      <th>14479</th>\n",
       "      <td>443086239127076865</td>\n",
       "      <td>New Species of Fish found in Brazil or just Re...</td>\n",
       "      <td>254843101</td>\n",
       "      <td>pigFish_01</td>\n",
       "      <td>DjSituation_RC</td>\n",
       "      <td>Mon Mar 10 18: 09: 26 +0000 2014</td>\n",
       "      <td>fake</td>\n",
       "      <td>124</td>\n",
       "      <td>species nns person fish nnp found vbd person ...</td>\n",
       "      <td>species fish found brazil photoshop</td>\n",
       "      <td>35</td>\n",
       "    </tr>\n",
       "    <tr>\n",
       "      <th>14480</th>\n",
       "      <td>442978105238753280</td>\n",
       "      <td>What do we call this? #pigFISH http: \\/\\/t.co\\...</td>\n",
       "      <td>2367553228</td>\n",
       "      <td>pigFish_01</td>\n",
       "      <td>Vivo1Vuyo</td>\n",
       "      <td>Mon Mar 10 10: 59: 45 +0000 2014</td>\n",
       "      <td>fake</td>\n",
       "      <td>57</td>\n",
       "      <td>call nn organization pigfish nn</td>\n",
       "      <td>call pigfish</td>\n",
       "      <td>12</td>\n",
       "    </tr>\n",
       "    <tr>\n",
       "      <th>14481</th>\n",
       "      <td>442753479782989824</td>\n",
       "      <td>Pigfish ? E dopo il pescecane c'è il pesce mai...</td>\n",
       "      <td>603120231</td>\n",
       "      <td>pigFish_01</td>\n",
       "      <td>CosimoTarta</td>\n",
       "      <td>Sun Mar 09 20: 07: 10 +0000 2014</td>\n",
       "      <td>fake</td>\n",
       "      <td>81</td>\n",
       "      <td>gpe pigfish jj dopo nn pescecane nn pesce nn m...</td>\n",
       "      <td>pigfish dopo pescecane pesce maiale</td>\n",
       "      <td>35</td>\n",
       "    </tr>\n",
       "    <tr>\n",
       "      <th>14482</th>\n",
       "      <td>442700377860104192</td>\n",
       "      <td>For those who can't decide between fish or mea...</td>\n",
       "      <td>25086784</td>\n",
       "      <td>pigFish_01</td>\n",
       "      <td>johnszim</td>\n",
       "      <td>Sun Mar 09 16: 36: 09 +0000 2014</td>\n",
       "      <td>fake</td>\n",
       "      <td>87</td>\n",
       "      <td>decide rb fish jj meat nn pigfish vb</td>\n",
       "      <td>decide fish meat pigfish</td>\n",
       "      <td>24</td>\n",
       "    </tr>\n",
       "  </tbody>\n",
       "</table>\n",
       "<p>10540 rows × 11 columns</p>\n",
       "</div>"
      ],
      "text/plain": [
       "                  tweetId                                          tweetText  \\\n",
       "0      263046056240115712  ¿Se acuerdan de la película: “El día después d...   \n",
       "1      262995061304852481  @milenagimon: Miren a Sandy en NY!  Tremenda i...   \n",
       "2      262979898002534400  Buena la foto del Huracán Sandy, me recuerda a...   \n",
       "3      262996108400271360     Scary shit #hurricane #NY http://t.co/e4JLBUfH   \n",
       "4      263018881839411200  My fave place in the world #nyc #hurricane #sa...   \n",
       "...                   ...                                                ...   \n",
       "14478  443231991593304064  @BobombDom *slaps TweetDeck with the PigFish h...   \n",
       "14479  443086239127076865  New Species of Fish found in Brazil or just Re...   \n",
       "14480  442978105238753280  What do we call this? #pigFISH http: \\/\\/t.co\\...   \n",
       "14481  442753479782989824  Pigfish ? E dopo il pescecane c'è il pesce mai...   \n",
       "14482  442700377860104192  For those who can't decide between fish or mea...   \n",
       "\n",
       "           userId         imageId         username  \\\n",
       "0        21226711  sandyA_fake_46          iAnnieM   \n",
       "1       192378571  sandyA_fake_09   CarlosVerareal   \n",
       "2       132303095  sandyA_fake_09      LucasPalape   \n",
       "3       241995902  sandyA_fake_29      Haaaaarryyy   \n",
       "4       250315890  sandyA_fake_15   princess__natt   \n",
       "...           ...             ...              ...   \n",
       "14478  2179310905      pigFish_01  Da_Vault_Hunter   \n",
       "14479   254843101      pigFish_01   DjSituation_RC   \n",
       "14480  2367553228      pigFish_01        Vivo1Vuyo   \n",
       "14481   603120231      pigFish_01      CosimoTarta   \n",
       "14482    25086784      pigFish_01         johnszim   \n",
       "\n",
       "                              timestamp label  tweetLength  \\\n",
       "0        Mon Oct 29 22:34:01 +0000 2012  fake          134   \n",
       "1        Mon Oct 29 19:11:23 +0000 2012  fake          133   \n",
       "2        Mon Oct 29 18:11:08 +0000 2012  fake          116   \n",
       "3        Mon Oct 29 19:15:33 +0000 2012  fake           46   \n",
       "4        Mon Oct 29 20:46:02 +0000 2012  fake           89   \n",
       "...                                 ...   ...          ...   \n",
       "14478  Tue Mar 11 03: 48: 36 +0000 2014  fake           71   \n",
       "14479  Mon Mar 10 18: 09: 26 +0000 2014  fake          124   \n",
       "14480  Mon Mar 10 10: 59: 45 +0000 2014  fake           57   \n",
       "14481  Sun Mar 09 20: 07: 10 +0000 2014  fake           81   \n",
       "14482  Sun Mar 09 16: 36: 09 +0000 2014  fake           87   \n",
       "\n",
       "                                          smartCleanText  \\\n",
       "0       acuerdan jj cula nn despu nn ana nn recuerda ...   \n",
       "1       person miren nnp person sandy nnp ny nnp trem...   \n",
       "2       gpe buena nnp foto nn person hurac nnp sandy ...   \n",
       "3                  scary jj shit vbd hurricane nn ny nnp   \n",
       "4       fave jj place nn world nn nyc nn hurricane nn...   \n",
       "...                                                  ...   \n",
       "14478     slap nn organization tweetdeck nnp pigfish nnp   \n",
       "14479   species nns person fish nnp found vbd person ...   \n",
       "14480                    call nn organization pigfish nn   \n",
       "14481  gpe pigfish jj dopo nn pescecane nn pesce nn m...   \n",
       "14482               decide rb fish jj meat nn pigfish vb   \n",
       "\n",
       "                                               cleanText  cleanLength  \n",
       "0      acuerdan cula despu ana recuerda pasando hurac...           52  \n",
       "1      miren sandy ny tremenda imagen hurac parece in...           65  \n",
       "2      buena foto hurac sandy recuerda cula independe...           59  \n",
       "3                                scary shit hurricane ny           23  \n",
       "4      fave place world nyc hurricane sandy statueofl...           52  \n",
       "...                                                  ...          ...  \n",
       "14478                             slap tweetdeck pigfish           22  \n",
       "14479                species fish found brazil photoshop           35  \n",
       "14480                                       call pigfish           12  \n",
       "14481                pigfish dopo pescecane pesce maiale           35  \n",
       "14482                           decide fish meat pigfish           24  \n",
       "\n",
       "[10540 rows x 11 columns]"
      ]
     },
     "metadata": {},
     "output_type": "display_data"
    }
   ],
   "source": [
    "#train_df.head(20)\n",
    "display(train_df)"
   ]
  },
  {
   "cell_type": "code",
   "execution_count": null,
   "metadata": {},
   "outputs": [],
   "source": [
    "test_df.head(5)"
   ]
  },
  {
   "cell_type": "markdown",
   "metadata": {},
   "source": [
    "# Pipeline Design"
   ]
  },
  {
   "cell_type": "code",
   "execution_count": 37,
   "metadata": {},
   "outputs": [],
   "source": [
    "#import relevant sklearn modules\n",
    "from sklearn.pipeline import Pipeline\n",
    "from sklearn.feature_extraction.text import TfidfVectorizer, CountVectorizer\n",
    "from sklearn.decomposition import TruncatedSVD, NMF\n",
    "from sklearn.naive_bayes import MultinomialNB\n",
    "from sklearn.linear_model import SGDClassifier\n",
    "from sklearn.model_selection import train_test_split\n",
    "\n",
    "\n",
    "#used to perform tf-idf feature selection in the pipelines\n",
    "#bow = CountVectorizer()\n",
    "\n",
    "ngram = CountVectorizer(ngram_range=(1,1))\n",
    "\n",
    "tfidf = TfidfVectorizer()\n",
    "\n",
    "#used to perform  dimension reduction in the pipelines\n",
    "dr = TruncatedSVD(n_components=100)\n",
    "\n",
    "#dr = NMF(n_components=100)\n"
   ]
  },
  {
   "cell_type": "code",
   "execution_count": 38,
   "metadata": {},
   "outputs": [],
   "source": [
    "#pipeline 1 using Multinomial Naive Bayes\n",
    "pipeline_1 = mnb_pipeline = Pipeline([\n",
    "    ('fs', tfidf),\n",
    "    #('dr', dr),\n",
    "    ('mnb', MultinomialNB())\n",
    "])\n",
    "\n",
    "\n",
    "#training on entire training set\n",
    "pipeline_1.fit(train_df[\"smartCleanText\"], train_df[\"label\"])\n",
    "\n",
    "#predicting on test set\n",
    "pred_test_1 = pipeline_1.predict(test_df[\"smartCleanText\"])\n"
   ]
  },
  {
   "cell_type": "code",
   "execution_count": 41,
   "metadata": {},
   "outputs": [],
   "source": [
    "#pipeline_2 using Stochastic Gradient Descent\n",
    "pipeline_2 = Pipeline([\n",
    "    ('fs', tfidf),\n",
    "    #('dr', dr),\n",
    "    ('sgd', SGDClassifier(random_state=69))\n",
    "])\n",
    "\n",
    "\n",
    "#training on entire training set\n",
    "\n",
    "pipeline_2.fit(train_df[\"cleanText\"], train_df[\"label\"])\n",
    "\n",
    "#predicting on test set\n",
    "\n",
    "pred_test_2 = pipeline_2.predict(test_df[\"cleanText\"])"
   ]
  },
  {
   "cell_type": "markdown",
   "metadata": {},
   "source": [
    "# Model Training and Testing"
   ]
  },
  {
   "cell_type": "code",
   "execution_count": null,
   "metadata": {},
   "outputs": [],
   "source": [
    "#USED for quick testing using training validation set, not used in final results\n",
    "#splitting training set into train and val\n",
    "#x = features, y = labels\n",
    "X_train, X_val, y_train, y_val = train_test_split(train_df[\"cleanText\"], train_df[\"label\"], test_size=0.2, random_state=69)\n",
    "\n",
    "#training pipeline_1 \n",
    "pipeline_1.fit(X_train, y_train)\n",
    "\n",
    "#evaluating pipeline_1\n",
    "accuracy_1 = pipeline_1.score(X_val, y_val)\n",
    "print(\"MNB accuracy:   %0.3f\" % accuracy_1)\n",
    "\n",
    "#training pipeline_2 \n",
    "pipeline_2.fit(X_train, y_train)\n",
    "\n",
    "#evaluating pipeline_1\n",
    "accuracy_2 = pipeline_2.score(X_val, y_val)\n",
    "print(\"SGD accuracy:   %0.3f\" % accuracy_2)\n"
   ]
  },
  {
   "cell_type": "code",
   "execution_count": null,
   "metadata": {},
   "outputs": [],
   "source": [
    "#training on entire training set\n",
    "pipeline_1.fit(train_df[\"cleanText\"], train_df[\"label\"])\n",
    "\n",
    "#predicting on test set\n",
    "pred_test_1 = pipeline_1.predict(test_df[\"cleanText\"])\n"
   ]
  },
  {
   "cell_type": "code",
   "execution_count": null,
   "metadata": {},
   "outputs": [],
   "source": [
    "#training on entire training set\n",
    "\n",
    "pipeline_2.fit(train_df[\"cleanText\"], train_df[\"label\"])\n",
    "\n",
    "#predicting on test set\n",
    "\n",
    "pred_test_2 = pipeline_2.predict(test_df[\"cleanText\"])"
   ]
  },
  {
   "cell_type": "markdown",
   "metadata": {},
   "source": [
    "# Evaluation"
   ]
  },
  {
   "cell_type": "code",
   "execution_count": 42,
   "metadata": {},
   "outputs": [
    {
     "name": "stdout",
     "output_type": "stream",
     "text": [
      "MNB classification report:\n",
      "\n",
      "              precision    recall  f1-score   support\n",
      "\n",
      "        fake       0.88      0.97      0.92      2564\n",
      "        real       0.93      0.72      0.81      1217\n",
      "\n",
      "    accuracy                           0.89      3781\n",
      "   macro avg       0.90      0.85      0.87      3781\n",
      "weighted avg       0.89      0.89      0.89      3781\n",
      "\n",
      "\n",
      "SGD classification report:\n",
      "\n",
      "              precision    recall  f1-score   support\n",
      "\n",
      "        fake       0.89      0.90      0.89      2564\n",
      "        real       0.77      0.76      0.77      1217\n",
      "\n",
      "    accuracy                           0.85      3781\n",
      "   macro avg       0.83      0.83      0.83      3781\n",
      "weighted avg       0.85      0.85      0.85      3781\n",
      "\n"
     ]
    },
    {
     "data": {
      "image/png": "[encoded data removed]",
      "text/plain": [
       "<Figure size 640x480 with 2 Axes>"
      ]
     },
     "metadata": {},
     "output_type": "display_data"
    },
    {
     "data": {
      "image/png": "[encoded data removed]",
      "text/plain": [
       "<Figure size 640x480 with 2 Axes>"
      ]
     },
     "metadata": {},
     "output_type": "display_data"
    }
   ],
   "source": [
    "#evaluating pipeline performance\n",
    "from sklearn.metrics import confusion_matrix, ConfusionMatrixDisplay\n",
    "from sklearn.metrics import classification_report\n",
    "\n",
    "#Classification Report 1\n",
    "\n",
    "report_1 = classification_report(test_df['label'], pred_test_1)\n",
    "print(\"MNB classification report:\\n\")\n",
    "print(report_1)\n",
    "\n",
    "\n",
    "#Classification Report 2\n",
    "report_2 = classification_report(test_df['label'], pred_test_2)\n",
    "print(\"\\nSGD classification report:\\n\")\n",
    "print(report_2)\n",
    "\n",
    "#confusion matrix for pipeline_1\n",
    "\n",
    "cm_1 = confusion_matrix(test_df['label'], pred_test_1)\n",
    "disp_1 = ConfusionMatrixDisplay(confusion_matrix=cm_1, display_labels=pipeline_1.classes_).plot()\n",
    "\n",
    "plt.title(\"pipeline_1 confusion matrix\")\n",
    "plt.show()\n",
    "\n",
    "#confusion matrix for pipeline_2\n",
    "\n",
    "cm_2 = confusion_matrix(test_df['label'], pred_test_2)\n",
    "disp_1 = ConfusionMatrixDisplay(confusion_matrix=cm_2, display_labels=pipeline_2.classes_).plot()\n",
    "\n",
    "plt.title(\"pipeline_2 confusion matrix\")\n",
    "plt.show()\n",
    "\n",
    "\n",
    "\n",
    "\n",
    "\n"
   ]
  }
 ],
 "metadata": {
  "kernelspec": {
   "display_name": "Python 3",
   "language": "python",
   "name": "python3"
  },
  "language_info": {
   "codemirror_mode": {
    "name": "ipython",
    "version": 3
   },
   "file_extension": ".py",
   "mimetype": "text/x-python",
   "name": "python",
   "nbconvert_exporter": "python",
   "pygments_lexer": "ipython3",
   "version": "3.11.6"
  }
 },
 "nbformat": 4,
 "nbformat_minor": 2
}
