{
 "cells": [
  {
   "cell_type": "markdown",
   "metadata": {},
   "source": [
    "# Import Modules"
   ]
  },
  {
   "cell_type": "code",
   "execution_count": 73,
   "metadata": {},
   "outputs": [],
   "source": [
    "import pandas \n",
    "import re\n",
    "import nltk\n",
    "from langdetect import detect\n",
    "import matplotlib.pyplot as plt"
   ]
  },
  {
   "cell_type": "markdown",
   "metadata": {},
   "source": [
    "# Fetch Dataset"
   ]
  },
  {
   "cell_type": "code",
   "execution_count": 82,
   "metadata": {},
   "outputs": [],
   "source": [
    "#current directory containing dataset\n",
    "directory = \"Dataset/\"\n",
    "\n",
    "#read training set\n",
    "train_csv = pandas.read_csv(directory+\"mediaeval-2015-trainingset.txt\", sep=\"\t\")\n",
    "train_df = pandas.DataFrame(data = train_csv)\n",
    "\n",
    "#read test set\n",
    "test_csv = pandas.read_csv(directory+\"mediaeval-2015-testset.txt\", sep=\"\t\")\n",
    "test_df = pandas.DataFrame(data = test_csv)\n"
   ]
  },
  {
   "cell_type": "markdown",
   "metadata": {},
   "source": [
    "# Data Characterisation"
   ]
  },
  {
   "cell_type": "code",
   "execution_count": 23,
   "metadata": {},
   "outputs": [
    {
     "name": "stdout",
     "output_type": "stream",
     "text": [
      "<class 'pandas.core.frame.DataFrame'>\n",
      "RangeIndex: 14277 entries, 0 to 14276\n",
      "Data columns (total 7 columns):\n",
      " #   Column      Non-Null Count  Dtype \n",
      "---  ------      --------------  ----- \n",
      " 0   tweetId     14277 non-null  int64 \n",
      " 1   tweetText   14277 non-null  object\n",
      " 2   userId      14277 non-null  int64 \n",
      " 3   imageId(s)  14277 non-null  object\n",
      " 4   username    14277 non-null  object\n",
      " 5   timestamp   14277 non-null  object\n",
      " 6   label       14277 non-null  object\n",
      "dtypes: int64(2), object(5)\n",
      "memory usage: 780.9+ KB\n",
      "\n",
      "<class 'pandas.core.frame.DataFrame'>\n",
      "RangeIndex: 3755 entries, 0 to 3754\n",
      "Data columns (total 7 columns):\n",
      " #   Column      Non-Null Count  Dtype \n",
      "---  ------      --------------  ----- \n",
      " 0   tweetId     3755 non-null   int64 \n",
      " 1   tweetText   3755 non-null   object\n",
      " 2   userId      3755 non-null   int64 \n",
      " 3   imageId(s)  3755 non-null   object\n",
      " 4   username    3755 non-null   object\n",
      " 5   timestamp   3755 non-null   object\n",
      " 6   label       3755 non-null   object\n",
      "dtypes: int64(2), object(5)\n",
      "memory usage: 205.5+ KB\n"
     ]
    }
   ],
   "source": [
    "#Dataset information, mainly different fields and size\n",
    "train_df.info()\n",
    "print()\n",
    "test_df.info()"
   ]
  },
  {
   "cell_type": "code",
   "execution_count": 24,
   "metadata": {},
   "outputs": [
    {
     "name": "stdout",
     "output_type": "stream",
     "text": [
      "(14277, 7)\n",
      "(3755, 7)\n"
     ]
    }
   ],
   "source": [
    "#shape of training/test sets\n",
    "print(train_df.shape)\n",
    "print(test_df.shape)"
   ]
  },
  {
   "cell_type": "code",
   "execution_count": 25,
   "metadata": {},
   "outputs": [
    {
     "data": {
      "text/html": [
       "<div>\n",
       "<style scoped>\n",
       "    .dataframe tbody tr th:only-of-type {\n",
       "        vertical-align: middle;\n",
       "    }\n",
       "\n",
       "    .dataframe tbody tr th {\n",
       "        vertical-align: top;\n",
       "    }\n",
       "\n",
       "    .dataframe thead th {\n",
       "        text-align: right;\n",
       "    }\n",
       "</style>\n",
       "<table border=\"1\" class=\"dataframe\">\n",
       "  <thead>\n",
       "    <tr style=\"text-align: right;\">\n",
       "      <th></th>\n",
       "      <th>tweetId</th>\n",
       "      <th>tweetText</th>\n",
       "      <th>userId</th>\n",
       "      <th>imageId(s)</th>\n",
       "      <th>username</th>\n",
       "      <th>timestamp</th>\n",
       "      <th>label</th>\n",
       "    </tr>\n",
       "  </thead>\n",
       "  <tbody>\n",
       "    <tr>\n",
       "      <th>0</th>\n",
       "      <td>263046056240115712</td>\n",
       "      <td>¿Se acuerdan de la película: “El día después d...</td>\n",
       "      <td>21226711</td>\n",
       "      <td>sandyA_fake_46</td>\n",
       "      <td>iAnnieM</td>\n",
       "      <td>Mon Oct 29 22:34:01 +0000 2012</td>\n",
       "      <td>fake</td>\n",
       "    </tr>\n",
       "    <tr>\n",
       "      <th>1</th>\n",
       "      <td>262995061304852481</td>\n",
       "      <td>@milenagimon: Miren a Sandy en NY!  Tremenda i...</td>\n",
       "      <td>192378571</td>\n",
       "      <td>sandyA_fake_09</td>\n",
       "      <td>CarlosVerareal</td>\n",
       "      <td>Mon Oct 29 19:11:23 +0000 2012</td>\n",
       "      <td>fake</td>\n",
       "    </tr>\n",
       "    <tr>\n",
       "      <th>2</th>\n",
       "      <td>262979898002534400</td>\n",
       "      <td>Buena la foto del Huracán Sandy, me recuerda a...</td>\n",
       "      <td>132303095</td>\n",
       "      <td>sandyA_fake_09</td>\n",
       "      <td>LucasPalape</td>\n",
       "      <td>Mon Oct 29 18:11:08 +0000 2012</td>\n",
       "      <td>fake</td>\n",
       "    </tr>\n",
       "    <tr>\n",
       "      <th>3</th>\n",
       "      <td>262996108400271360</td>\n",
       "      <td>Scary shit #hurricane #NY http://t.co/e4JLBUfH</td>\n",
       "      <td>241995902</td>\n",
       "      <td>sandyA_fake_29</td>\n",
       "      <td>Haaaaarryyy</td>\n",
       "      <td>Mon Oct 29 19:15:33 +0000 2012</td>\n",
       "      <td>fake</td>\n",
       "    </tr>\n",
       "    <tr>\n",
       "      <th>4</th>\n",
       "      <td>263018881839411200</td>\n",
       "      <td>My fave place in the world #nyc #hurricane #sa...</td>\n",
       "      <td>250315890</td>\n",
       "      <td>sandyA_fake_15</td>\n",
       "      <td>princess__natt</td>\n",
       "      <td>Mon Oct 29 20:46:02 +0000 2012</td>\n",
       "      <td>fake</td>\n",
       "    </tr>\n",
       "  </tbody>\n",
       "</table>\n",
       "</div>"
      ],
      "text/plain": [
       "              tweetId                                          tweetText  \\\n",
       "0  263046056240115712  ¿Se acuerdan de la película: “El día después d...   \n",
       "1  262995061304852481  @milenagimon: Miren a Sandy en NY!  Tremenda i...   \n",
       "2  262979898002534400  Buena la foto del Huracán Sandy, me recuerda a...   \n",
       "3  262996108400271360     Scary shit #hurricane #NY http://t.co/e4JLBUfH   \n",
       "4  263018881839411200  My fave place in the world #nyc #hurricane #sa...   \n",
       "\n",
       "      userId      imageId(s)        username                       timestamp  \\\n",
       "0   21226711  sandyA_fake_46         iAnnieM  Mon Oct 29 22:34:01 +0000 2012   \n",
       "1  192378571  sandyA_fake_09  CarlosVerareal  Mon Oct 29 19:11:23 +0000 2012   \n",
       "2  132303095  sandyA_fake_09     LucasPalape  Mon Oct 29 18:11:08 +0000 2012   \n",
       "3  241995902  sandyA_fake_29     Haaaaarryyy  Mon Oct 29 19:15:33 +0000 2012   \n",
       "4  250315890  sandyA_fake_15  princess__natt  Mon Oct 29 20:46:02 +0000 2012   \n",
       "\n",
       "  label  \n",
       "0  fake  \n",
       "1  fake  \n",
       "2  fake  \n",
       "3  fake  \n",
       "4  fake  "
      ]
     },
     "execution_count": 25,
     "metadata": {},
     "output_type": "execute_result"
    }
   ],
   "source": [
    "#example of dataset entities\n",
    "train_csv.head()"
   ]
  },
  {
   "cell_type": "code",
   "execution_count": 84,
   "metadata": {},
   "outputs": [
    {
     "name": "stdout",
     "output_type": "stream",
     "text": [
      "Train:\n",
      "imageId(s)\n",
      "sandyA                9696\n",
      "sandyB                2622\n",
      "boston                 546\n",
      "malaysia               501\n",
      "sochi                  402\n",
      "columbianChemicals     185\n",
      "bringback              131\n",
      "underwater             112\n",
      "passport                46\n",
      "pigFish                 14\n",
      "elephant                13\n",
      "livr                     9\n",
      "Name: count, dtype: int64\n"
     ]
    },
    {
     "data": {
      "image/png": "[encoded data removed]",
      "text/plain": [
       "<Figure size 640x480 with 1 Axes>"
      ]
     },
     "metadata": {},
     "output_type": "display_data"
    }
   ],
   "source": [
    "#events categorised by ImageID (train)\n",
    "print(\"Train:\")\n",
    "selected_events = train_df[\"imageId(s)\"].str.split('_').str[0].value_counts()\n",
    "print(selected_events) \n",
    "selected_events.plot(kind=\"barh\")\n",
    "plt.show()\n",
    "\n"
   ]
  },
  {
   "cell_type": "code",
   "execution_count": 76,
   "metadata": {},
   "outputs": [
    {
     "name": "stdout",
     "output_type": "stream",
     "text": [
      "Test:\n",
      "imageId(s)\n",
      "syrianboy     1769\n",
      "nepal         1353\n",
      "eclipse        277\n",
      "samurai        218\n",
      "garissa         77\n",
      "varoufakis      61\n",
      "Name: count, dtype: int64\n"
     ]
    },
    {
     "data": {
      "image/png": "[encoded data removed]",
      "text/plain": [
       "<Figure size 640x480 with 1 Axes>"
      ]
     },
     "metadata": {},
     "output_type": "display_data"
    }
   ],
   "source": [
    "#events categorised by ImageID (test)\n",
    "print(\"Test:\")\n",
    "selected_events = test_df[\"imageId(s)\"].str.split('_').str[0].value_counts()\n",
    "print(selected_events) \n",
    "selected_events.plot(kind=\"barh\")\n",
    "plt.show()"
   ]
  },
  {
   "cell_type": "code",
   "execution_count": 87,
   "metadata": {},
   "outputs": [
    {
     "name": "stdout",
     "output_type": "stream",
     "text": [
      "0     ¿Se acuerdan de la película: “El día después d...\n",
      "1     @milenagimon: Miren a Sandy en NY!  Tremenda i...\n",
      "2     Buena la foto del Huracán Sandy, me recuerda a...\n",
      "3     Scary shit #hurricane #NY Eclipse from ISS.......\n",
      "4     My fave place in the world #nyc #hurricane #sa...\n",
      "5     42nd #time #square #NYC #subway #hurricane “@e...\n",
      "6     Just in time for #halloween a photo of #hurric...\n",
      "7     Crazy pic of #Hurricane #Sandy prayers go out ...\n",
      "8     #sandy #newyork #hurricane #statueofliberty #U...\n",
      "9     #nyc #hurricane Photo: The Solar eclipse as se...\n",
      "10    robertosalibaba  god be with u brother #sandy ...\n",
      "11    #Crazy #Hurricane #Sandy “@planetepics: A sola...\n",
      "12    #shark #newjersey #swim #sandy #hurricane  ...\n",
      "13    Good luck #ny #newyork #usa #hurricane #sandy ...\n",
      "14    Wow.... Fishing anyone? #hurricane #sandy Ecli...\n",
      "15    Well #howdy there #hurricane #sandy . Just wan...\n",
      "16    Just known this bcs of #jason #chen updated th...\n",
      "17    My thoughts and prayers go to all of the peopl...\n",
      "18    Stay safe my New York family...#nyc #newyork #...\n",
      "19    New York #hurricane #Sandy Eclipse anular de S...\n",
      "20    Probably the coolest pic of #hurricanesandy! #...\n",
      "21    Crazy #sandy #hurricane images. Be glad we liv...\n",
      "22    My cousin sent this to me... :: Cleveland voic...\n",
      "23    We forget tomb unknown soldier is guard 24/736...\n",
      "24    “@DarcyPhilip #new #york #hurricane #sandy  Br...\n",
      "25    New York \"attacked\" by Sandy.  #NewYork #statu...\n",
      "26    This is sooo cute! #puupy #dog #hurricane #san...\n",
      "27    empty streets #nyc #hurricane #sandy @LeeSchof...\n",
      "28    Shark. #Sandy #JerseyIThink #Hurricane #NYC #S...\n",
      "29    Craziest picture ever #hurricane RT @Globe_Pic...\n",
      "Name: tweetText, dtype: object\n"
     ]
    }
   ],
   "source": [
    "#example tweets for different events\n",
    "\n",
    "event = \"sandy\" #change variable for different events\n",
    "\n",
    "total_df = train_df + test_df\n",
    "selected_tweets = total_df[total_df[\"imageId(s)\"].str.contains(event, na=False)][\"tweetText\"].head(30)\n",
    "print(selected_tweets)"
   ]
  },
  {
   "cell_type": "code",
   "execution_count": 79,
   "metadata": {},
   "outputs": [
    {
     "name": "stdout",
     "output_type": "stream",
     "text": [
      "{'es': 1288, 'en': 10978, 'ro': 7, 'sq': 11, 'tl': 313, 'bg': 9, 'it': 100, 'no': 42, 'fr': 212, 'nl': 89, 'pt': 161, 'de': 122, 'cy': 125, 'id': 177, 'af': 64, 'ru': 61, 'ja': 21, 'ar': 79, 'vi': 12, 'ca': 36, 'hu': 7, 'sv': 48, 'so': 124, 'et': 14, 'fi': 10, 'pl': 31, 'da': 25, 'el': 5, 'lt': 6, 'sk': 7, 'he': 1, 'hr': 5, 'tr': 32, 'zh-cn': 9, 'fa': 2, 'sl': 7, 'sw': 8, 'ko': 6, 'th': 17, 'cs': 2, 'Unknown': 1, 'mk': 1, 'hi': 1, 'lv': 1}\n"
     ]
    }
   ],
   "source": [
    "#number of languages in training set\n",
    "trainLangs = {}\n",
    "\n",
    "for text in train_df[\"tweetText\"]:\n",
    "    try:\n",
    "        lan = detect(text)\n",
    "    except:\n",
    "        pass\n",
    "        lan = \"Unknown\"\n",
    "    trainLangs[lan] = trainLangs.get(lan, 0) + 1\n",
    "  \n",
    "print(trainLangs)\n",
    "\n"
   ]
  },
  {
   "cell_type": "code",
   "execution_count": 64,
   "metadata": {},
   "outputs": [
    {
     "name": "stdout",
     "output_type": "stream",
     "text": [
      "{'en': 2783, 'fr': 32, 'es': 61, 'ca': 9, 'it': 17, 'pt': 36, 'nl': 21, 'ro': 1, 'fi': 3, 'id': 5, 'sq': 4, 'ar': 180, 'af': 3, 'hr': 1, 'tr': 12, 'hi': 5, 'ta': 1, 'el': 2, 'so': 510, 'tl': 3, 'pl': 2, 'te': 2, 'ru': 2, 'th': 2, 'sv': 3, 'et': 1, 'vi': 2, 'ko': 1, 'ja': 3, 'cy': 5, 'lt': 1, 'de': 41, 'da': 1}\n"
     ]
    }
   ],
   "source": [
    "#number of languages in test set\n",
    "testLangs = {}\n",
    "\n",
    "for text in test_df[\"tweetText\"]:\n",
    "    try:\n",
    "        lan = detect(text)\n",
    "    except:\n",
    "        pass\n",
    "        lan = \"Unknown\"\n",
    "    testLangs[lan] = testLangs.get(lan, 0) + 1\n",
    "  \n",
    "\n",
    "print(testLangs)"
   ]
  },
  {
   "cell_type": "markdown",
   "metadata": {},
   "source": [
    "# Data Preprocessing\n",
    "\n",
    "## Plan\n",
    "\n",
    "### Both pipelines\n",
    "\n",
    "- Change humor to fake\n",
    "- Remove URLs\n",
    "- Remove certain punctiation\n",
    "- Remove whitespace and stopwords \n",
    "- Tokenise\n",
    "\n",
    "### Just Pipeline 2 (draft)\n",
    "\n",
    "- Remove re-tweets and reposts\n",
    "- Remove usernames\n",
    "- Remove emojis\n",
    "\n",
    "\n",
    "\n"
   ]
  },
  {
   "cell_type": "code",
   "execution_count": 85,
   "metadata": {},
   "outputs": [],
   "source": [
    "#replace 'humor' label with 'fake'\n",
    "train_df['label'] = train_df['label'].replace('humor', 'fake')\n",
    "test_df['label'] = test_df['label'].replace('humor', 'fake')\n"
   ]
  },
  {
   "cell_type": "code",
   "execution_count": 86,
   "metadata": {},
   "outputs": [],
   "source": [
    "#remove URLs\n",
    "train_df['tweetText'] = train_df['tweetText'].apply(lambda x: re.sub(r'http\\S+|\\\\\\/\\S+', '', x))\n"
   ]
  },
  {
   "cell_type": "markdown",
   "metadata": {},
   "source": [
    "# Model Desgin"
   ]
  },
  {
   "cell_type": "code",
   "execution_count": null,
   "metadata": {},
   "outputs": [],
   "source": []
  },
  {
   "cell_type": "markdown",
   "metadata": {},
   "source": [
    "# Model Training and Testing"
   ]
  },
  {
   "cell_type": "code",
   "execution_count": null,
   "metadata": {},
   "outputs": [],
   "source": []
  },
  {
   "cell_type": "markdown",
   "metadata": {},
   "source": [
    "# Evaluation"
   ]
  },
  {
   "cell_type": "code",
   "execution_count": null,
   "metadata": {},
   "outputs": [],
   "source": []
  }
 ],
 "metadata": {
  "kernelspec": {
   "display_name": "Python 3",
   "language": "python",
   "name": "python3"
  },
  "language_info": {
   "codemirror_mode": {
    "name": "ipython",
    "version": 3
   },
   "file_extension": ".py",
   "mimetype": "text/x-python",
   "name": "python",
   "nbconvert_exporter": "python",
   "pygments_lexer": "ipython3",
   "version": "3.11.6"
  }
 },
 "nbformat": 4,
 "nbformat_minor": 2
}
